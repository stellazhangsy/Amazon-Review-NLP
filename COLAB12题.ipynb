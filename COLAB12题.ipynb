{
  "nbformat": 4,
  "nbformat_minor": 0,
  "metadata": {
    "kernelspec": {
      "display_name": "Python 3",
      "language": "python",
      "name": "python3"
    },
    "language_info": {
      "codemirror_mode": {
        "name": "ipython",
        "version": 3
      },
      "file_extension": ".py",
      "mimetype": "text/x-python",
      "name": "python",
      "nbconvert_exporter": "python",
      "pygments_lexer": "ipython3",
      "version": "3.7.4"
    },
    "toc": {
      "base_numbering": 1,
      "nav_menu": {},
      "number_sections": true,
      "sideBar": true,
      "skip_h1_title": false,
      "title_cell": "Table of Contents",
      "title_sidebar": "Contents",
      "toc_cell": false,
      "toc_position": {
        "height": "calc(100% - 180px)",
        "left": "10px",
        "top": "150px",
        "width": "165px"
      },
      "toc_section_display": true,
      "toc_window_display": true
    },
    "varInspector": {
      "cols": {
        "lenName": 16,
        "lenType": 16,
        "lenVar": 40
      },
      "kernels_config": {
        "python": {
          "delete_cmd_postfix": "",
          "delete_cmd_prefix": "del ",
          "library": "var_list.py",
          "varRefreshCmd": "print(var_dic_list())"
        },
        "r": {
          "delete_cmd_postfix": ") ",
          "delete_cmd_prefix": "rm(",
          "library": "var_list.r",
          "varRefreshCmd": "cat(var_dic_list()) "
        }
      },
      "types_to_exclude": [
        "module",
        "function",
        "builtin_function_or_method",
        "instance",
        "_Feature"
      ],
      "window_display": false
    },
    "colab": {
      "name": "Venmo_COLAB12题.ipynb",
      "provenance": [],
      "collapsed_sections": [],
      "toc_visible": true,
      "include_colab_link": true
    }
  },
  "cells": [
    {
      "cell_type": "markdown",
      "metadata": {
        "id": "view-in-github",
        "colab_type": "text"
      },
      "source": [
        "<a href=\"https://colab.research.google.com/github/stellazhangsy/Amazon-Review-NLP/blob/master/COLAB12%E9%A2%98.ipynb\" target=\"_parent\"><img src=\"https://colab.research.google.com/assets/colab-badge.svg\" alt=\"Open In Colab\"/></a>"
      ]
    },
    {
      "cell_type": "markdown",
      "metadata": {
        "id": "i5W0LxY4z1DC",
        "colab_type": "text"
      },
      "source": [
        "## Q3 For each user, create a variable to indicate their spending behavior profile.  "
      ]
    },
    {
      "cell_type": "code",
      "metadata": {
        "ExecuteTime": {
          "end_time": "2020-05-10T23:56:17.328866Z",
          "start_time": "2020-05-10T23:45:41.460816Z"
        },
        "id": "0lpBiOWpz1DC",
        "colab_type": "code",
        "colab": {}
      },
      "source": [
        "# join Venmo original dataset with the dataset from question 1 that has description classification\n",
        "# consider the transaction direction: only keep transactions that type is 'payment'\n",
        "df_full = spark.sql(\"select user1, user2, t1.description, class, datetime \\\n",
        "                    from df_class t1 join Venmo t2 using (index) \\\n",
        "                    where transaction_type = 'payment' \\\n",
        "                    order by user1 \")\n",
        "df_full.createOrReplaceTempView(\"df_full\")\n",
        "#df_full.show(4)"
      ],
      "execution_count": 0,
      "outputs": []
    },
    {
      "cell_type": "code",
      "metadata": {
        "ExecuteTime": {
          "end_time": "2020-05-11T00:35:46.499848Z",
          "start_time": "2020-05-11T00:21:02.529629Z"
        },
        "scrolled": false,
        "id": "1Cb3lkypz1DJ",
        "colab_type": "code",
        "colab": {}
      },
      "source": [
        "# For each user, calculate the number of his/her transactions per class and how many percents of total spendings \n",
        "df_profile = spark.sql(\"select user1, class, count(*) as transactions_per_class, \\\n",
        "                    concat(round(count(*)/sum(count(*)) over (partition by user1) *100, 2),'%') as ratio \\\n",
        "               from df_full \\\n",
        "               group by user1, class \\\n",
        "               order by user1\")\n",
        "#df_profile.show()"
      ],
      "execution_count": 0,
      "outputs": []
    },
    {
      "cell_type": "code",
      "metadata": {
        "ExecuteTime": {
          "end_time": "2020-05-09T04:19:33.156169Z",
          "start_time": "2020-05-09T04:01:52.942355Z"
        },
        "id": "2wnTUsxUz1DQ",
        "colab_type": "code",
        "colab": {}
      },
      "source": [
        "# create a list with unique classes \n",
        "categories = sorted(df_profile.select(\"class\").distinct().rdd.map(lambda row: row[0]).collect())\n",
        "\n",
        "cols = [when(col(\"class\") == category, col(\"ratio\")).otherwise(None).alias(category) \n",
        "    for category in categories]\n",
        "\n",
        "maxs = [max(col(category)).alias(category) for category in categories]\n",
        "\n",
        "# create static spending profile for each user\n",
        "static_profile = (df_profile.select(col(\"user1\"), *cols).groupBy(\"user1\").agg(*maxs).na.fill(0))\n",
        "\n",
        "static_profile.createOrReplaceTempView(\"static_profile\")\n",
        "#static_profile.show()"
      ],
      "execution_count": 0,
      "outputs": []
    },
    {
      "cell_type": "code",
      "metadata": {
        "ExecuteTime": {
          "end_time": "2020-05-07T19:56:11.761122Z",
          "start_time": "2020-05-07T19:41:45.038421Z"
        },
        "collapsed": true,
        "id": "SpAxVMNaz1DZ",
        "colab_type": "code",
        "outputId": "36c85523-5458-40c9-e716-b678597a0749",
        "colab": {}
      },
      "source": [
        "# df_profile = df_profile.withColumn(\"dict\", concat(col(\"ratio\"), lit(\" \"), col(\"class\")))\n",
        "# df_profile = df_profile.groupby(\"user1\").agg(F.concat_ws(\", \", \n",
        "#                                     F.collect_list(df_profile.dict)).alias(\"static_profile\"))\n",
        "# df_profile.registerTempTable(\"df_profile\")\n",
        "# df_profile.show(10, truncate = False)"
      ],
      "execution_count": 0,
      "outputs": [
        {
          "output_type": "stream",
          "text": [
            "+-----+---------------------------------------------------------------------------------------------------------+\n",
            "|user1|static_profile                                                                                           |\n",
            "+-----+---------------------------------------------------------------------------------------------------------+\n",
            "|2    |100.0%people                                                                                             |\n",
            "|3    |16.67%no_class, 50.0%people, 16.67%travel, 16.67%food                                                    |\n",
            "|4    |16.67%illegal_sarcasm, 16.67%food, 33.33%people, 16.67%activity, 16.67%no_class                          |\n",
            "|10   |10.0%no_class, 30.0%people, 10.0%activity, 50.0%food                                                     |\n",
            "|11   |4.0%activity, 36.0%people, 4.0%illegal_sarcasm, 20.0%no_class, 20.0%food, 8.0%travel, 8.0%utility        |\n",
            "|12   |33.33%people, 11.11%activity, 33.33%no_class, 11.11%food, 11.11%illegal_sarcasm                          |\n",
            "|13   |47.37%people, 10.53%food, 5.26%illegal_sarcasm, 5.26%utility, 10.53%no_class, 15.79%activity, 5.26%travel|\n",
            "|16   |10.0%travel, 10.0%trasportation, 60.0%food, 10.0%activity, 10.0%utility                                  |\n",
            "|19   |25.0%food, 25.0%event, 25.0%activity, 25.0%no_class                                                      |\n",
            "|28   |100.0%people                                                                                             |\n",
            "+-----+---------------------------------------------------------------------------------------------------------+\n",
            "only showing top 10 rows\n",
            "\n"
          ],
          "name": "stdout"
        }
      ]
    },
    {
      "cell_type": "markdown",
      "metadata": {
        "id": "LGqp2oCiz1Dd",
        "colab_type": "text"
      },
      "source": [
        "## Q4 For each user, create a dynamic spending profile (12 months)"
      ]
    },
    {
      "cell_type": "code",
      "metadata": {
        "ExecuteTime": {
          "end_time": "2020-05-11T00:51:19.767000Z",
          "start_time": "2020-05-11T00:37:30.053566Z"
        },
        "id": "n-Z7-epVz1De",
        "colab_type": "code",
        "colab": {}
      },
      "source": [
        "# navigate the first transaction date and only keep first 12 months transactions for each user \n",
        "days_tbl = spark.sql(\"select user1, user2, datetime, class, datediff(datetime, \\\n",
        "                first_value(datetime) over (partition by user1 order by datetime)) as days \\\n",
        "                from df_full \\\n",
        "                group by user1, user2, datetime, class\\\n",
        "                order by user1\")\n",
        "#days_tbl.show()"
      ],
      "execution_count": 0,
      "outputs": []
    },
    {
      "cell_type": "code",
      "metadata": {
        "ExecuteTime": {
          "end_time": "2020-05-11T01:32:45.698696Z",
          "start_time": "2020-05-11T01:23:46.622336Z"
        },
        "id": "a9M-3ej4z1Dg",
        "colab_type": "code",
        "colab": {}
      },
      "source": [
        "# add lifetime indiactor (0-12 where 0 represents the 1st transaction and 1 represents 1 month and so on)\n",
        "days_lifeindicator_tbl = days_tbl.select(\"*\", \n",
        "            when(days_tbl.days==0, 0)\\\n",
        "         .when((days_tbl.days>0) & (days_tbl.days<=30), 1) \\\n",
        "         .when((days_tbl.days>30) & (days_tbl.days<=60), 2) \\\n",
        "         .when((days_tbl.days>60) & (days_tbl.days<=90), 3)\\\n",
        "         .when((days_tbl.days>90) & (days_tbl.days<=120), 4)\\\n",
        "         .when((days_tbl.days>120) & (days_tbl.days<=150), 5)\\\n",
        "         .when((days_tbl.days>150) & (days_tbl.days<=180), 6)\\\n",
        "         .when((days_tbl.days>180) & (days_tbl.days<=210), 7)\\\n",
        "         .when((days_tbl.days>210) & (days_tbl.days<=240), 8)\\\n",
        "         .when((days_tbl.days>240) & (days_tbl.days<=270), 9)\\\n",
        "         .when((days_tbl.days>270) & (days_tbl.days<=300), 10)\\\n",
        "         .when((days_tbl.days>300) & (days_tbl.days<=330), 11)\\\n",
        "         .when((days_tbl.days>330) & (days_tbl.days<=360), 12)\\\n",
        "         .otherwise(-1).alias('lifetime_indicator'))\n",
        "days_lifeindicator_tbl.createOrReplaceTempView(\"days_lifeindicator_tbl\")\n",
        "\n",
        "# filter out records where \"datetime-startdate\">=360 days (12 months after first transaction)\n",
        "lifetime_tbl = days_lifeindicator_tbl.filter(\"lifetime_indicator != -1 \").sort(\"user1\")\n",
        "\n",
        "#lifetime_tbl.show()"
      ],
      "execution_count": 0,
      "outputs": []
    },
    {
      "cell_type": "code",
      "metadata": {
        "ExecuteTime": {
          "end_time": "2020-05-12T06:50:32.761535Z",
          "start_time": "2020-05-12T06:50:28.950690Z"
        },
        "id": "14yG1qKOz1Dq",
        "colab_type": "code",
        "colab": {}
      },
      "source": [
        "lifetime_tbl = lifetime_tbl\\\n",
        "        .withColumn(\"lifetime_category\", \n",
        "                        concat(lit(\"time\"), col(\"lifetime_indicator\"), lit(\"_\"), col(\"class\")))\\\n",
        "        .withColumn(\"user_life\", concat(col(\"user1\"), lit(\"_\"), col(\"lifetime_indicator\")))\n",
        "\n",
        "lifetime_tbl.createOrReplaceTempView(\"lifetime_tbl\")\n",
        "\n",
        "dynamic_tbl = spark.sql(\"select user1, lifetime_indicator, class, \\\n",
        "                round(count(*)/sum(count(*)) \\\n",
        "                  over (partition by user1, lifetime_indicator), 2) as percentage \\\n",
        "               from lifetime_tbl \\\n",
        "               group by user1, lifetime_indicator, class \\\n",
        "               order by user1\")\n",
        "\n",
        "dynamic_tbl.createOrReplaceTempView(\"dynamic_tbl\")\n",
        "\n",
        "#dynamic_tbl.show()"
      ],
      "execution_count": 0,
      "outputs": []
    },
    {
      "cell_type": "code",
      "metadata": {
        "ExecuteTime": {
          "end_time": "2020-05-11T02:07:17.328948Z",
          "start_time": "2020-05-11T01:45:49.223073Z"
        },
        "id": "aZ0gDIT9z1Dx",
        "colab_type": "code",
        "colab": {}
      },
      "source": [
        "# create dynamic profile\n",
        "#spread rows to columns: each row representing one user, each column representing lifetime and spending category\n",
        "\n",
        "classes = sorted(dynamic_tbl.select(\"class\").distinct().rdd.map(lambda row: row[0]).collect())\n",
        "\n",
        "cols1 = [when(col(\"class\") == clas, col(\"percentage\")).otherwise(None).alias(clas) \n",
        "    for clas in classes]\n",
        "\n",
        "maxs1 = [max(col(clas)).alias(clas) for clas in classes]\n",
        "\n",
        "dynamic_profile = (dynamic_tbl.select(col(\"user1\"), \n",
        "            col(\"lifetime_indicator\"), *cols1)\\\n",
        "            .groupBy(\"user1\", \"lifetime_indicator\").agg(*maxs1).na.fill(0)\\\n",
        "            .orderBy(\"user1\", \"lifetime_indicator\"))\n",
        "\n",
        "dynamic_profile.createOrReplaceTempView(\"dynamic_profile\")\n",
        "\n",
        "#dynamic_profile.show()"
      ],
      "execution_count": 0,
      "outputs": []
    },
    {
      "cell_type": "code",
      "metadata": {
        "ExecuteTime": {
          "end_time": "2020-05-09T05:56:03.783133Z",
          "start_time": "2020-05-09T05:31:26.175472Z"
        },
        "id": "1lwWHnZUz1D2",
        "colab_type": "code",
        "outputId": "f15a7316-9938-45ee-c079-97a9e3a33358",
        "colab": {
          "base_uri": "https://localhost:8080/",
          "height": 17
        }
      },
      "source": [
        "df1 = spark.sql(\"select user1, category_life, \\\n",
        "                 round(count(*)/sum(count(*)) over (partition by user_life), 2) as percentage \\\n",
        "               from lifetime_tbl \\\n",
        "               group by user1, user_life, category_life \\\n",
        "               order by user1\")\n",
        "life_cates = sorted(df1.select(\"category_life\").distinct().rdd.map(lambda row: row[0]).collect())\n",
        "cols2 = [when(col(\"category_life\") == life_cate, col(\"percentage\")).otherwise(None).alias(life_cate) \n",
        "    for life_cate in life_cates]\n",
        "maxs2 = [max(col(life_cate)).alias(life_cate) for life_cate in life_cates]\n",
        "dynamic2 = (df1.select(col(\"user1\"), *cols2).groupBy(\"user1\").agg(*maxs2).na.fill(0))\n",
        "\n",
        "\n",
        "# calculate mean, standard deviation for each time period and each class\n",
        "summary_stats = dynamic2.summary()\n",
        "df_dynamic_summary = summary_stats.select(\"*\").toPandas()\n",
        "df_dynamic_summary = df_dynamic_summary.T.reset_index() # transpose and reset index\n",
        "headers = df_dynamic_summary.iloc[0] # store new header values\n",
        "df_dynamic_summary = df_dynamic_summary[2:] # remove user1 information and previous header\n",
        "df_dynamic_summary.columns = headers\n",
        "df_dynamic_summary = df_dynamic_summary.reset_index(drop=True)\n",
        "df_dynamic_summary.head()"
      ],
      "execution_count": 0,
      "outputs": [
        {
          "output_type": "error",
          "ename": "AnalysisException",
          "evalue": "ignored",
          "traceback": [
            "\u001b[0;31m---------------------------------------------------------------------------\u001b[0m",
            "\u001b[0;31mPy4JJavaError\u001b[0m                             Traceback (most recent call last)",
            "\u001b[0;32m/content/spark-3.0.0-preview2-bin-hadoop3.2/python/pyspark/sql/utils.py\u001b[0m in \u001b[0;36mdeco\u001b[0;34m(*a, **kw)\u001b[0m\n\u001b[1;32m     97\u001b[0m         \u001b[0;32mtry\u001b[0m\u001b[0;34m:\u001b[0m\u001b[0;34m\u001b[0m\u001b[0;34m\u001b[0m\u001b[0m\n\u001b[0;32m---> 98\u001b[0;31m             \u001b[0;32mreturn\u001b[0m \u001b[0mf\u001b[0m\u001b[0;34m(\u001b[0m\u001b[0;34m*\u001b[0m\u001b[0ma\u001b[0m\u001b[0;34m,\u001b[0m \u001b[0;34m**\u001b[0m\u001b[0mkw\u001b[0m\u001b[0;34m)\u001b[0m\u001b[0;34m\u001b[0m\u001b[0;34m\u001b[0m\u001b[0m\n\u001b[0m\u001b[1;32m     99\u001b[0m         \u001b[0;32mexcept\u001b[0m \u001b[0mpy4j\u001b[0m\u001b[0;34m.\u001b[0m\u001b[0mprotocol\u001b[0m\u001b[0;34m.\u001b[0m\u001b[0mPy4JJavaError\u001b[0m \u001b[0;32mas\u001b[0m \u001b[0me\u001b[0m\u001b[0;34m:\u001b[0m\u001b[0;34m\u001b[0m\u001b[0;34m\u001b[0m\u001b[0m\n",
            "\u001b[0;32m/content/spark-3.0.0-preview2-bin-hadoop3.2/python/lib/py4j-0.10.8.1-src.zip/py4j/protocol.py\u001b[0m in \u001b[0;36mget_return_value\u001b[0;34m(answer, gateway_client, target_id, name)\u001b[0m\n\u001b[1;32m    327\u001b[0m                     \u001b[0;34m\"An error occurred while calling {0}{1}{2}.\\n\"\u001b[0m\u001b[0;34m.\u001b[0m\u001b[0;34m\u001b[0m\u001b[0;34m\u001b[0m\u001b[0m\n\u001b[0;32m--> 328\u001b[0;31m                     format(target_id, \".\", name), value)\n\u001b[0m\u001b[1;32m    329\u001b[0m             \u001b[0;32melse\u001b[0m\u001b[0;34m:\u001b[0m\u001b[0;34m\u001b[0m\u001b[0;34m\u001b[0m\u001b[0m\n",
            "\u001b[0;31mPy4JJavaError\u001b[0m: An error occurred while calling o27.sql.\n: org.apache.spark.sql.AnalysisException: cannot resolve '`category_life`' given input columns: [lifetime_tbl.class, lifetime_tbl.datetime, lifetime_tbl.days, lifetime_tbl.lifetime_category, lifetime_tbl.lifetime_indicator, lifetime_tbl.user1, lifetime_tbl.user2, lifetime_tbl.user_life]; line 1 pos 198;\n'Sort ['user1 ASC NULLS FIRST], true\n+- 'Aggregate [user1#3580, user_life#3765, 'category_life], [user1#3580, 'category_life, round((cast(count(1) as double) / cast(sum(count(1)) windowspecdefinition(user_life#3765, specifiedwindowframe(RowFrame, unboundedpreceding$(), unboundedfollowing$())) as double)), 2) AS percentage#4301]\n   +- SubqueryAlias `lifetime_tbl`\n      +- Project [user1#3580, user2#3581, datetime#3583, class#3611, days#3742, lifetime_indicator#3750, lifetime_category#3757, concat(cast(user1#3580 as string), _, cast(lifetime_indicator#3750 as string)) AS user_life#3765]\n         +- Project [user1#3580, user2#3581, datetime#3583, class#3611, days#3742, lifetime_indicator#3750, concat(time, cast(lifetime_indicator#3750 as string), _, class#3611) AS lifetime_category#3757]\n            +- Sort [user1#3580 ASC NULLS FIRST], true\n               +- Filter NOT (lifetime_indicator#3750 = -1)\n                  +- Project [user1#3580, user2#3581, datetime#3583, class#3611, days#3742, CASE WHEN (days#3742 = 0) THEN 0 WHEN ((days#3742 > 0) AND (days#3742 <= 30)) THEN 1 WHEN ((days#3742 > 30) AND (days#3742 <= 60)) THEN 2 WHEN ((days#3742 > 60) AND (days#3742 <= 90)) THEN 3 WHEN ((days#3742 > 90) AND (days#3742 <= 120)) THEN 4 WHEN ((days#3742 > 120) AND (days#3742 <= 150)) THEN 5 WHEN ((days#3742 > 150) AND (days#3742 <= 180)) THEN 6 WHEN ((days#3742 > 180) AND (days#3742 <= 210)) THEN 7 WHEN ((days#3742 > 210) AND (days#3742 <= 240)) THEN 8 WHEN ((days#3742 > 240) AND (days#3742 <= 270)) THEN 9 WHEN ((days#3742 > 270) AND (days#3742 <= 300)) THEN 10 WHEN ((days#3742 > 300) AND (days#3742 <= 330)) THEN 11 WHEN ((days#3742 > 330) AND (days#3742 <= 360)) THEN 12 ELSE -1 END AS lifetime_indicator#3750]\n                     +- Sort [user1#3580 ASC NULLS FIRST], true\n                        +- Project [user1#3580, user2#3581, datetime#3583, class#3611, days#3742]\n                           +- Project [user1#3580, user2#3581, datetime#3583, class#3611, _we0#3744, datediff(cast(datetime#3583 as date), cast(_we0#3744 as date)) AS days#3742]\n                              +- Window [first(datetime#3583, false) windowspecdefinition(user1#3580, datetime#3583 ASC NULLS FIRST, specifiedwindowframe(RangeFrame, unboundedpreceding$(), currentrow$())) AS _we0#3744], [user1#3580], [datetime#3583 ASC NULLS FIRST]\n                                 +- Aggregate [user1#3580, user2#3581, datetime#3583, class#3611], [user1#3580, user2#3581, datetime#3583, class#3611]\n                                    +- SubqueryAlias `df_full`\n                                       +- Sort [user1#3580 ASC NULLS FIRST], true\n                                          +- Project [user1#3580, user2#3581, description#3605, class#3611, datetime#3583]\n                                             +- Filter (transaction_type#3582 = payment)\n                                                +- Project [index#3594L, description#3605, class#3611, user1#3580, user2#3581, transaction_type#3582, datetime#3583, description#3584, is_business#3585, story_id#3586]\n                                                   +- Join Inner, (index#3594L = index#3625L)\n                                                      :- SubqueryAlias `t1`\n                                                      :  +- SubqueryAlias `df_class`\n                                                      :     +- Sort [index#3594L ASC NULLS FIRST], true\n                                                      :        +- Distinct\n                                                      :           +- Union\n                                                      :              :- Project [index#3594L, description#3605, class#3611]\n                                                      :              :  +- SubqueryAlias `text_class`\n                                                      :              :     +- Project [index#3594L, description#3605, CASE WHEN description#3605 RLIKE (friend)|(friendship)|(baby)|(boy)|(girl)|(help)|(like)|(love)|(mom)|(save)|(tank)|(thank)|(thanks)|(thx)|(ya)|(yo)|(lol)|(bro)|(brother)|(bud)|(buddy)|(dad)|(daddy)|(dude)|(fam)|(family)|(father)|(duh)|(gracias)|(people)|(luv)|(babe)|(guy)|(angel)|(bb)|(boi)|(bruh)|(ha)|(mother)|(mama) THEN people WHEN description#3605 RLIKE (food)|(bbq)|(bean)|(latte)|(breakfast)|(brunch)|(burger)|(burrito)|(cake)|(cheese)|(chicken)|(coffee)|(chip)|(chinese)|(chipotle)|(cream)|(costco)|(dinner)|(drink)|(drank)|(eat)|(din)|(dranks)|(fry)|(grocery)|(ice)|(juice)|(lunch)|(meat)|(pizza)|(salad)|(snack)|(supply)|(sushi)|(taco)|(thai)|(water)|(wine)|(booze)|(pho)|(wing)|(yum)|(dog)|(hot)|(bottle)|(boba)|(bagel)|(brew)|(grub)|(vino)|(alcohol)|(egg)|(sandwich)|(cooky)|(milk)|(tea)|(pie)|(steak)|(soup)|(feed)|(tequila)|(fish)|(comida)|(ramen)|(sugar)|(roll)|(cafe)|(sauce)|(nacho)|(foooood)|(fooooood)|(fooood)|(donut)|(foodz)|(starbucks)|(candy)|(noodle)|(meal)|(soda)|(grill)|(bfast)|(nut)|(drunk)|(yummy)|(banquet)|(dumpling)|(poke)|(coke)|(brownie)|(cookout)|(spicy)|(protein)|(queso)|(pork)|(mango)|(tofu)|(pasta)|(coco)|(panera)|(veggie)|(cookie)|(milkshake)|(nugget)|(chili)|(feast)|(liquor)|(diner)|(cupcake)|(margarita)|(bun)|(dessert)|(pitcher)|(wendy)|(joes)|(market)|(bubble)|(mcdonald)|(pancake)|(vodka)|(bread)|(mimosa)|(domino)|(beverage)|(sus...\n                                                      :              :        +- Sort [index#3594L ASC NULLS FIRST], true\n                                                      :              :           +- ExceptAll true\n                                                      :              :              :- Project [index#3594L, lower(description#3584) AS description#3605]\n                                                      :              :              :  +- SubqueryAlias `venmo`\n                                                      :              :              :     +- Project [user1#3580, user2#3581, transaction_type#3582, datetime#3583, description#3584, is_business#3585, story_id#3586, monotonically_increasing_id() AS index#3594L]\n                                                      :              :              :        +- RelationV2[user1#3580, user2#3581, transaction_type#3582, datetime#3583, description#3584, is_business#3585, story_id#3586] parquet file:/content/drive/My Drive/423 Big Data /HW2/Venmo/VenmoSample.snappy.parquet\n                                                      :              :              +- Project [index#3608L, description#3584]\n                                                      :              :                 +- Filter (hex(description#3584) RLIKE ^[E2|F0]{2} AND NOT description#3584 RLIKE [g-zG-Z?!\\.])\n                                                      :              :                    +- SubqueryAlias `venmo`\n                                                      :              :                       +- Project [user1#3580, user2#3581, transaction_type#3582, datetime#3583, description#3584, is_business#3585, story_id#3586, monotonically_increasing_id() AS index#3608L]\n                                                      :              :                          +- RelationV2[user1#3580, user2#3581, transaction_type#3582, datetime#3583, description#3584, is_business#3585, story_id#3586] parquet file:/content/drive/My Drive/423 Big Data /HW2/Venmo/VenmoSample.snappy.parquet\n                                                      :              +- Project [index#3594L AS index#3619L, description#3584 AS description#3620, class#3615 AS class#3621]\n                                                      :                 +- Project [index#3594L, description#3584, class#3615]\n                                                      :                    +- SubqueryAlias `emoji_class`\n                                                      :                       +- Project [index#3594L, description#3584, CASE WHEN description#3584 RLIKE (❤️)|(👯)|(💕)|(😁)|(🙌🏼)|(👳🏾)|(😎)|(😊)|(💘)|(😘)|(💋)|(👬)|(💗)|(😘)|(🤓)|(🙂)|(😍)|(😊)|(💛)|(😻)|(💕)|(💗)|(💜)|(👩‍👩‍👦)|(👪)|(💋)|(💏) THEN people WHEN description#3584 RLIKE (🍕)|(🍵)|(🌮)|(☕)|(🍰)|(🍴)|(😋)|(🍷)|(🍺)|(🍚)|(🍪)|(🍳)|(🎂)|(🍟)|(🍱)|(🍣)|(🍘)|(🍙)|(🍜)|(🍥)|(🍽)|(🍦)|(🦀)|(🍔)|(🍸)|(🍗)|(🍩)|(🍲)|(🌯)|(🍝)|(🍛)|(🍌)|(🍊)|(🍹)|(🍤)|(🧀)|(🍡)|(🐙)|(🍎)|(🍆)|(🍭)|(🍬)|(🍏)|(🍞)|(🌶)|(🎂)|(☕️)|(🍰)|(🍪)|(🍇)|(🍌)|(🍓)|(🍟)|(🍱)|(🍣)|(🍘)|(🍙)|(🍽)|(🍜)|(🍚)|(🍥)|(🍔)|(🌯)|(🍗)|(🍸)|(🍩)|(🌮)|(🍯)|(🍲)|(🍛)|(🍊)|(🍖)|(🌭)|(🍦)|(🍤)|(🍮)|(🍨)|(🍞)|(🍉)|(🍅)|(🍒)|(🍆)|(🧀)|(🌶)|(🐙)|(🍝)|(🌽)|(🍭)|(🍬)|(🍸)|(🍠)|(🍋)|(🍫)|(🍏)|(🍽)|(🍼)|(🍶)|(🍡)|(🍾)|(🍲)|(🍜)|(🍛)|(🌰)|(😋)|(🍯)|(🐙)|(🦀)|(🎋)|(🍢)|(🌭)|(🍐)|(🍊)|(🍄)|(🍍)|(🍧) THEN food WHEN description#3584 RLIKE (👰)|(🎤)|(🌲)|(💍)|(🎅🏽)|(🎎)|(🎓)|(👰👰)|( 🎁)|(👰🏼)|(💎)|(🎅🏿)|(🎄)|(💮)|(🉐)|(🎃)|(🈴🈂🈺🈵) THEN event WHEN description#3584 RLIKE (🍻)|(🏀)|(🏈)|(👠)|(🎉)|(🎥)|(🎁)|(🔫)|(🏨)|(🚣🏽)|(🍾)|(⛳)|(📚)|(🏐)|(🎬)|(⛺️)|(🛍)|(🎢)|(🎳)|(💅🏼)|(⚽)|(🎤)|(⛷)|(⚾️)|(💇)|(🐳)|(💆🏻)|(🀄)|(🏉)|(✏️)|(📖)|(🎲)|(🎸)|(🎱)|(🎮)|(🎭)|(📷)|(⛑)|(🔫)|(🏋)|(✂️)|(🎬)|(🛍)|(📷)|(📚)|(🏀)|(🎶)|(🚤)|(💆🏻)|(⛳️)|(🏌)|(💃)|(⚽)|(🐲)|( ⛵)|(⚾️)|( 🀄)|(📖)|(✏️)|(🏇)|(🎭)|(⛹🏿)|(⚽️)|(🏂)|(🎨)|(🎥)|(🎫)|(🏊)|(👙)|(🎿)|(🎧)|(🎲)|(🛥)|(🎮)|(🏐)|(🎡)|(🎢)|(🚲)|(🎠)|(🎱)|(\ud83c...\n                                                      :                          +- Project [index#3594L, description#3584]\n                                                      :                             +- Filter (hex(description#3584) RLIKE ^[E2|F0]{2} AND NOT description#3584 RLIKE [g-zG-Z?!\\.])\n                                                      :                                +- SubqueryAlias `venmo`\n                                                      :                                   +- Project [user1#3580, user2#3581, transaction_type#3582, datetime#3583, description#3584, is_business#3585, story_id#3586, monotonically_increasing_id() AS index#3594L]\n                                                      :                                      +- RelationV2[user1#3580, user2#3581, transaction_type#3582, datetime#3583, description#3584, is_business#3585, story_id#3586] parquet file:/content/drive/My Drive/423 Big Data /HW2/Venmo/VenmoSample.snappy.parquet\n                                                      +- SubqueryAlias `t2`\n                                                         +- SubqueryAlias `venmo`\n                                                            +- Project [user1#3580, user2#3581, transaction_type#3582, datetime#3583, description#3584, is_business#3585, story_id#3586, monotonically_increasing_id() AS index#3625L]\n                                                               +- RelationV2[user1#3580, user2#3581, transaction_type#3582, datetime#3583, description#3584, is_business#3585, story_id#3586] parquet file:/content/drive/My Drive/423 Big Data /HW2/Venmo/VenmoSample.snappy.parquet\n\n\tat org.apache.spark.sql.catalyst.analysis.package$AnalysisErrorAt.failAnalysis(package.scala:42)\n\tat org.apache.spark.sql.catalyst.analysis.CheckAnalysis$$anonfun$$nestedInanonfun$checkAnalysis$1$2.applyOrElse(CheckAnalysis.scala:140)\n\tat org.apache.spark.sql.catalyst.analysis.CheckAnalysis$$anonfun$$nestedInanonfun$checkAnalysis$1$2.applyOrElse(CheckAnalysis.scala:137)\n\tat org.apache.spark.sql.catalyst.trees.TreeNode.$anonfun$transformUp$2(TreeNode.scala:310)\n\tat org.apache.spark.sql.catalyst.trees.CurrentOrigin$.withOrigin(TreeNode.scala:72)\n\tat org.apache.spark.sql.catalyst.trees.TreeNode.transformUp(TreeNode.scala:310)\n\tat org.apache.spark.sql.catalyst.plans.QueryPlan.$anonfun$transformExpressionsUp$1(QueryPlan.scala:97)\n\tat org.apache.spark.sql.catalyst.plans.QueryPlan.$anonfun$mapExpressions$1(QueryPlan.scala:109)\n\tat org.apache.spark.sql.catalyst.trees.CurrentOrigin$.withOrigin(TreeNode.scala:72)\n\tat org.apache.spark.sql.catalyst.plans.QueryPlan.transformExpression$1(QueryPlan.scala:109)\n\tat org.apache.spark.sql.catalyst.plans.QueryPlan.recursiveTransform$1(QueryPlan.scala:120)\n\tat org.apache.spark.sql.catalyst.plans.QueryPlan.$anonfun$mapExpressions$3(QueryPlan.scala:125)\n\tat scala.collection.TraversableLike.$anonfun$map$1(TraversableLike.scala:238)\n\tat scala.collection.mutable.ResizableArray.foreach(ResizableArray.scala:62)\n\tat scala.collection.mutable.ResizableArray.foreach$(ResizableArray.scala:55)\n\tat scala.collection.mutable.ArrayBuffer.foreach(ArrayBuffer.scala:49)\n\tat scala.collection.TraversableLike.map(TraversableLike.scala:238)\n\tat scala.collection.TraversableLike.map$(TraversableLike.scala:231)\n\tat scala.collection.AbstractTraversable.map(Traversable.scala:108)\n\tat org.apache.spark.sql.catalyst.plans.QueryPlan.recursiveTransform$1(QueryPlan.scala:125)\n\tat org.apache.spark.sql.catalyst.plans.QueryPlan.$anonfun$mapExpressions$4(QueryPlan.scala:130)\n\tat org.apache.spark.sql.catalyst.trees.TreeNode.mapProductIterator(TreeNode.scala:214)\n\tat org.apache.spark.sql.catalyst.plans.QueryPlan.mapExpressions(QueryPlan.scala:130)\n\tat org.apache.spark.sql.catalyst.plans.QueryPlan.transformExpressionsUp(QueryPlan.scala:97)\n\tat org.apache.spark.sql.catalyst.analysis.CheckAnalysis.$anonfun$checkAnalysis$1(CheckAnalysis.scala:137)\n\tat org.apache.spark.sql.catalyst.analysis.CheckAnalysis.$anonfun$checkAnalysis$1$adapted(CheckAnalysis.scala:91)\n\tat org.apache.spark.sql.catalyst.trees.TreeNode.foreachUp(TreeNode.scala:154)\n\tat org.apache.spark.sql.catalyst.trees.TreeNode.$anonfun$foreachUp$1(TreeNode.scala:153)\n\tat org.apache.spark.sql.catalyst.trees.TreeNode.$anonfun$foreachUp$1$adapted(TreeNode.scala:153)\n\tat scala.collection.immutable.List.foreach(List.scala:392)\n\tat org.apache.spark.sql.catalyst.trees.TreeNode.foreachUp(TreeNode.scala:153)\n\tat org.apache.spark.sql.catalyst.analysis.CheckAnalysis.checkAnalysis(CheckAnalysis.scala:91)\n\tat org.apache.spark.sql.catalyst.analysis.CheckAnalysis.checkAnalysis$(CheckAnalysis.scala:88)\n\tat org.apache.spark.sql.catalyst.analysis.Analyzer.checkAnalysis(Analyzer.scala:122)\n\tat org.apache.spark.sql.catalyst.analysis.Analyzer.$anonfun$executeAndCheck$1(Analyzer.scala:148)\n\tat org.apache.spark.sql.catalyst.plans.logical.AnalysisHelper$.markInAnalyzer(AnalysisHelper.scala:201)\n\tat org.apache.spark.sql.catalyst.analysis.Analyzer.executeAndCheck(Analyzer.scala:145)\n\tat org.apache.spark.sql.execution.QueryExecution.$anonfun$analyzed$1(QueryExecution.scala:69)\n\tat org.apache.spark.sql.catalyst.QueryPlanningTracker.measurePhase(QueryPlanningTracker.scala:111)\n\tat org.apache.spark.sql.execution.QueryExecution.analyzed$lzycompute(QueryExecution.scala:66)\n\tat org.apache.spark.sql.execution.QueryExecution.analyzed(QueryExecution.scala:66)\n\tat org.apache.spark.sql.execution.QueryExecution.assertAnalyzed(QueryExecution.scala:58)\n\tat org.apache.spark.sql.Dataset$.ofRows(Dataset.scala:95)\n\tat org.apache.spark.sql.SparkSession.sql(SparkSession.scala:607)\n\tat sun.reflect.GeneratedMethodAccessor97.invoke(Unknown Source)\n\tat sun.reflect.DelegatingMethodAccessorImpl.invoke(DelegatingMethodAccessorImpl.java:43)\n\tat java.lang.reflect.Method.invoke(Method.java:498)\n\tat py4j.reflection.MethodInvoker.invoke(MethodInvoker.java:244)\n\tat py4j.reflection.ReflectionEngine.invoke(ReflectionEngine.java:357)\n\tat py4j.Gateway.invoke(Gateway.java:282)\n\tat py4j.commands.AbstractCommand.invokeMethod(AbstractCommand.java:132)\n\tat py4j.commands.CallCommand.execute(CallCommand.java:79)\n\tat py4j.GatewayConnection.run(GatewayConnection.java:238)\n\tat java.lang.Thread.run(Thread.java:748)\n",
            "\nDuring handling of the above exception, another exception occurred:\n",
            "\u001b[0;31mAnalysisException\u001b[0m                         Traceback (most recent call last)",
            "\u001b[0;32m<ipython-input-144-46a348195d38>\u001b[0m in \u001b[0;36m<module>\u001b[0;34m()\u001b[0m\n\u001b[0;32m----> 1\u001b[0;31m \u001b[0mdf1\u001b[0m \u001b[0;34m=\u001b[0m \u001b[0mspark\u001b[0m\u001b[0;34m.\u001b[0m\u001b[0msql\u001b[0m\u001b[0;34m(\u001b[0m\u001b[0;34m\"select user1, category_life,                  round(count(*)/sum(count(*)) over (partition by user_life), 2) as percentage                from lifetime_tbl                group by user1, user_life, category_life                order by user1\"\u001b[0m\u001b[0;34m)\u001b[0m\u001b[0;34m\u001b[0m\u001b[0;34m\u001b[0m\u001b[0m\n\u001b[0m\u001b[1;32m      2\u001b[0m \u001b[0mlife_cates\u001b[0m \u001b[0;34m=\u001b[0m \u001b[0msorted\u001b[0m\u001b[0;34m(\u001b[0m\u001b[0mdf1\u001b[0m\u001b[0;34m.\u001b[0m\u001b[0mselect\u001b[0m\u001b[0;34m(\u001b[0m\u001b[0;34m\"category_life\"\u001b[0m\u001b[0;34m)\u001b[0m\u001b[0;34m.\u001b[0m\u001b[0mdistinct\u001b[0m\u001b[0;34m(\u001b[0m\u001b[0;34m)\u001b[0m\u001b[0;34m.\u001b[0m\u001b[0mrdd\u001b[0m\u001b[0;34m.\u001b[0m\u001b[0mmap\u001b[0m\u001b[0;34m(\u001b[0m\u001b[0;32mlambda\u001b[0m \u001b[0mrow\u001b[0m\u001b[0;34m:\u001b[0m \u001b[0mrow\u001b[0m\u001b[0;34m[\u001b[0m\u001b[0;36m0\u001b[0m\u001b[0;34m]\u001b[0m\u001b[0;34m)\u001b[0m\u001b[0;34m.\u001b[0m\u001b[0mcollect\u001b[0m\u001b[0;34m(\u001b[0m\u001b[0;34m)\u001b[0m\u001b[0;34m)\u001b[0m\u001b[0;34m\u001b[0m\u001b[0;34m\u001b[0m\u001b[0m\n\u001b[1;32m      3\u001b[0m cols2 = [when(col(\"category_life\") == life_cate, col(\"percentage\")).otherwise(None).alias(life_cate) \n\u001b[1;32m      4\u001b[0m     for life_cate in life_cates]\n\u001b[1;32m      5\u001b[0m \u001b[0mmaxs2\u001b[0m \u001b[0;34m=\u001b[0m \u001b[0;34m[\u001b[0m\u001b[0mmax\u001b[0m\u001b[0;34m(\u001b[0m\u001b[0mcol\u001b[0m\u001b[0;34m(\u001b[0m\u001b[0mlife_cate\u001b[0m\u001b[0;34m)\u001b[0m\u001b[0;34m)\u001b[0m\u001b[0;34m.\u001b[0m\u001b[0malias\u001b[0m\u001b[0;34m(\u001b[0m\u001b[0mlife_cate\u001b[0m\u001b[0;34m)\u001b[0m \u001b[0;32mfor\u001b[0m \u001b[0mlife_cate\u001b[0m \u001b[0;32min\u001b[0m \u001b[0mlife_cates\u001b[0m\u001b[0;34m]\u001b[0m\u001b[0;34m\u001b[0m\u001b[0;34m\u001b[0m\u001b[0m\n",
            "\u001b[0;32m/content/spark-3.0.0-preview2-bin-hadoop3.2/python/pyspark/sql/session.py\u001b[0m in \u001b[0;36msql\u001b[0;34m(self, sqlQuery)\u001b[0m\n\u001b[1;32m    804\u001b[0m         \u001b[0;34m[\u001b[0m\u001b[0mRow\u001b[0m\u001b[0;34m(\u001b[0m\u001b[0mf1\u001b[0m\u001b[0;34m=\u001b[0m\u001b[0;36m1\u001b[0m\u001b[0;34m,\u001b[0m \u001b[0mf2\u001b[0m\u001b[0;34m=\u001b[0m\u001b[0;34mu'row1'\u001b[0m\u001b[0;34m)\u001b[0m\u001b[0;34m,\u001b[0m \u001b[0mRow\u001b[0m\u001b[0;34m(\u001b[0m\u001b[0mf1\u001b[0m\u001b[0;34m=\u001b[0m\u001b[0;36m2\u001b[0m\u001b[0;34m,\u001b[0m \u001b[0mf2\u001b[0m\u001b[0;34m=\u001b[0m\u001b[0;34mu'row2'\u001b[0m\u001b[0;34m)\u001b[0m\u001b[0;34m,\u001b[0m \u001b[0mRow\u001b[0m\u001b[0;34m(\u001b[0m\u001b[0mf1\u001b[0m\u001b[0;34m=\u001b[0m\u001b[0;36m3\u001b[0m\u001b[0;34m,\u001b[0m \u001b[0mf2\u001b[0m\u001b[0;34m=\u001b[0m\u001b[0;34mu'row3'\u001b[0m\u001b[0;34m)\u001b[0m\u001b[0;34m]\u001b[0m\u001b[0;34m\u001b[0m\u001b[0;34m\u001b[0m\u001b[0m\n\u001b[1;32m    805\u001b[0m         \"\"\"\n\u001b[0;32m--> 806\u001b[0;31m         \u001b[0;32mreturn\u001b[0m \u001b[0mDataFrame\u001b[0m\u001b[0;34m(\u001b[0m\u001b[0mself\u001b[0m\u001b[0;34m.\u001b[0m\u001b[0m_jsparkSession\u001b[0m\u001b[0;34m.\u001b[0m\u001b[0msql\u001b[0m\u001b[0;34m(\u001b[0m\u001b[0msqlQuery\u001b[0m\u001b[0;34m)\u001b[0m\u001b[0;34m,\u001b[0m \u001b[0mself\u001b[0m\u001b[0;34m.\u001b[0m\u001b[0m_wrapped\u001b[0m\u001b[0;34m)\u001b[0m\u001b[0;34m\u001b[0m\u001b[0;34m\u001b[0m\u001b[0m\n\u001b[0m\u001b[1;32m    807\u001b[0m \u001b[0;34m\u001b[0m\u001b[0m\n\u001b[1;32m    808\u001b[0m     \u001b[0;34m@\u001b[0m\u001b[0msince\u001b[0m\u001b[0;34m(\u001b[0m\u001b[0;36m2.0\u001b[0m\u001b[0;34m)\u001b[0m\u001b[0;34m\u001b[0m\u001b[0;34m\u001b[0m\u001b[0m\n",
            "\u001b[0;32m/content/spark-3.0.0-preview2-bin-hadoop3.2/python/lib/py4j-0.10.8.1-src.zip/py4j/java_gateway.py\u001b[0m in \u001b[0;36m__call__\u001b[0;34m(self, *args)\u001b[0m\n\u001b[1;32m   1284\u001b[0m         \u001b[0manswer\u001b[0m \u001b[0;34m=\u001b[0m \u001b[0mself\u001b[0m\u001b[0;34m.\u001b[0m\u001b[0mgateway_client\u001b[0m\u001b[0;34m.\u001b[0m\u001b[0msend_command\u001b[0m\u001b[0;34m(\u001b[0m\u001b[0mcommand\u001b[0m\u001b[0;34m)\u001b[0m\u001b[0;34m\u001b[0m\u001b[0;34m\u001b[0m\u001b[0m\n\u001b[1;32m   1285\u001b[0m         return_value = get_return_value(\n\u001b[0;32m-> 1286\u001b[0;31m             answer, self.gateway_client, self.target_id, self.name)\n\u001b[0m\u001b[1;32m   1287\u001b[0m \u001b[0;34m\u001b[0m\u001b[0m\n\u001b[1;32m   1288\u001b[0m         \u001b[0;32mfor\u001b[0m \u001b[0mtemp_arg\u001b[0m \u001b[0;32min\u001b[0m \u001b[0mtemp_args\u001b[0m\u001b[0;34m:\u001b[0m\u001b[0;34m\u001b[0m\u001b[0;34m\u001b[0m\u001b[0m\n",
            "\u001b[0;32m/content/spark-3.0.0-preview2-bin-hadoop3.2/python/pyspark/sql/utils.py\u001b[0m in \u001b[0;36mdeco\u001b[0;34m(*a, **kw)\u001b[0m\n\u001b[1;32m    100\u001b[0m             \u001b[0mconverted\u001b[0m \u001b[0;34m=\u001b[0m \u001b[0mconvert_exception\u001b[0m\u001b[0;34m(\u001b[0m\u001b[0me\u001b[0m\u001b[0;34m.\u001b[0m\u001b[0mjava_exception\u001b[0m\u001b[0;34m)\u001b[0m\u001b[0;34m\u001b[0m\u001b[0;34m\u001b[0m\u001b[0m\n\u001b[1;32m    101\u001b[0m             \u001b[0;32mif\u001b[0m \u001b[0;32mnot\u001b[0m \u001b[0misinstance\u001b[0m\u001b[0;34m(\u001b[0m\u001b[0mconverted\u001b[0m\u001b[0;34m,\u001b[0m \u001b[0mUnknownException\u001b[0m\u001b[0;34m)\u001b[0m\u001b[0;34m:\u001b[0m\u001b[0;34m\u001b[0m\u001b[0;34m\u001b[0m\u001b[0m\n\u001b[0;32m--> 102\u001b[0;31m                 \u001b[0;32mraise\u001b[0m \u001b[0mconverted\u001b[0m\u001b[0;34m\u001b[0m\u001b[0;34m\u001b[0m\u001b[0m\n\u001b[0m\u001b[1;32m    103\u001b[0m             \u001b[0;32melse\u001b[0m\u001b[0;34m:\u001b[0m\u001b[0;34m\u001b[0m\u001b[0;34m\u001b[0m\u001b[0m\n\u001b[1;32m    104\u001b[0m                 \u001b[0;32mraise\u001b[0m\u001b[0;34m\u001b[0m\u001b[0;34m\u001b[0m\u001b[0m\n",
            "\u001b[0;31mAnalysisException\u001b[0m: cannot resolve '`category_life`' given input columns: [lifetime_tbl.class, lifetime_tbl.datetime, lifetime_tbl.days, lifetime_tbl.lifetime_category, lifetime_tbl.lifetime_indicator, lifetime_tbl.user1, lifetime_tbl.user2, lifetime_tbl.user_life]; line 1 pos 198;\n'Sort ['user1 ASC NULLS FIRST], true\n+- 'Aggregate [user1#3580, user_life#3765, 'category_life], [user1#3580, 'category_life, round((cast(count(1) as double) / cast(sum(count(1)) windowspecdefinition(user_life#3765, specifiedwindowframe(RowFrame, unboundedpreceding$(), unboundedfollowing$())) as double)), 2) AS percentage#4301]\n   +- SubqueryAlias `lifetime_tbl`\n      +- Project [user1#3580, user2#3581, datetime#3583, class#3611, days#3742, lifetime_indicator#3750, lifetime_category#3757, concat(cast(user1#3580 as string), _, cast(lifetime_indicator#3750 as string)) AS user_life#3765]\n         +- Project [user1#3580, user2#3581, datetime#3583, class#3611, days#3742, lifetime_indicator#3750, concat(time, cast(lifetime_indicator#3750 as string), _, class#3611) AS lifetime_category#3757]\n            +- Sort [user1#3580 ASC NULLS FIRST], true\n               +- Filter NOT (lifetime_indicator#3750 = -1)\n                  +- Project [user1#3580, user2#3581, datetime#3583, class#3611, days#3742, CASE WHEN (days#3742 = 0) THEN 0 WHEN ((days#3742 > 0) AND (days#3742 <= 30)) THEN 1 WHEN ((days#3742 > 30) AND (days#3742 <= 60)) THEN 2 WHEN ((days#3742 > 60) AND (days#3742 <= 90)) THEN 3 WHEN ((days#3742 > 90) AND (days#3742 <= 120)) THEN 4 WHEN ((days#3742 > 120) AND (days#3742 <= 150)) THEN 5 WHEN ((days#3742 > 150) AND (days#3742 <= 180)) THEN 6 WHEN ((days#3742 > 180) AND (days#3742 <= 210)) THEN 7 WHEN ((days#3742 > 210) AND (days#3742 <= 240)) THEN 8 WHEN ((days#3742 > 240) AND (days#3742 <= 270)) THEN 9 WHEN ((days#3742 > 270) AND (days#3742 <= 300)) THEN 10 WHEN ((days#3742 > 300) AND (days#3742 <= 330)) THEN 11 WHEN ((days#3742 > 330) AND (days#3742 <= 360)) THEN 12 ELSE -1 END AS lifetime_indicator#3750]\n                     +- Sort [user1#3580 ASC NULLS FIRST], true\n                        +- Project [user1#3580, user2#3581, datetime#3583, class#3611, days#3742]\n                           +- Project [user1#3580, user2#3581, datetime#3583, class#3611, _we0#3744, datediff(cast(datetime#3583 as date), cast(_we0#3744 as date)) AS days#3742]\n                              +- Window [first(datetime#3583, false) windowspecdefinition(user1#3580, datetime#3583 ASC NULLS FIRST, specifiedwindowframe(RangeFrame, unboundedpreceding$(), currentrow$())) AS _we0#3744], [user1#3580], [datetime#3583 ASC NULLS FIRST]\n                                 +- Aggregate [user1#3580, user2#3581, datetime#3583, class#3611], [user1#3580, user2#3581, datetime#3583, class#3611]\n                                    +- SubqueryAlias `df_full`\n                                       +- Sort [user1#3580 ASC NULLS FIRST], true\n                                          +- Project [user1#3580, user2#3581, description#3605, class#3611, datetime#3583]\n                                             +- Filter (transaction_type#3582 = payment)\n                                                +- Project [index#3594L, description#3605, class#3611, user1#3580, user2#3581, transaction_type#3582, datetime#3583, description#3584, is_business#3585, story_id#3586]\n                                                   +- Join Inner, (index#3594L = index#3625L)\n                                                      :- SubqueryAlias `t1`\n                                                      :  +- SubqueryAlias `df_class`\n                                                      :     +- Sort [index#3594L ASC NULLS FIRST], true\n                                                      :        +- Distinct\n                                                      :           +- Union\n                                                      :              :- Project [index#3594L, description#3605, class#3611]\n                                                      :              :  +- SubqueryAlias `text_class`\n                                                      :              :     +- Project [index#3594L, description#3605, CASE WHEN description#3605 RLIKE (friend)|(friendship)|(baby)|(boy)|(girl)|(help)|(like)|(love)|(mom)|(save)|(tank)|(thank)|(thanks)|(thx)|(ya)|(yo)|(lol)|(bro)|(brother)|(bud)|(buddy)|(dad)|(daddy)|(dude)|(fam)|(family)|(father)|(duh)|(gracias)|(people)|(luv)|(babe)|(guy)|(angel)|(bb)|(boi)|(bruh)|(ha)|(mother)|(mama) THEN people WHEN description#3605 RLIKE (food)|(bbq)|(bean)|(latte)|(breakfast)|(brunch)|(burger)|(burrito)|(cake)|(cheese)|(chicken)|(coffee)|(chip)|(chinese)|(chipotle)|(cream)|(costco)|(dinner)|(drink)|(drank)|(eat)|(din)|(dranks)|(fry)|(grocery)|(ice)|(juice)|(lunch)|(meat)|(pizza)|(salad)|(snack)|(supply)|(sushi)|(taco)|(thai)|(water)|(wine)|(booze)|(pho)|(wing)|(yum)|(dog)|(hot)|(bottle)|(boba)|(bagel)|(brew)|(grub)|(vino)|(alcohol)|(egg)|(sandwich)|(cooky)|(milk)|(tea)|(pie)|(steak)|(soup)|(feed)|(tequila)|(fish)|(comida)|(ramen)|(sugar)|(roll)|(cafe)|(sauce)|(nacho)|(foooood)|(fooooood)|(fooood)|(donut)|(foodz)|(starbucks)|(candy)|(noodle)|(meal)|(soda)|(grill)|(bfast)|(nut)|(drunk)|(yummy)|(banquet)|(dumpling)|(poke)|(coke)|(brownie)|(cookout)|(spicy)|(protein)|(queso)|(pork)|(mango)|(tofu)|(pasta)|(coco)|(panera)|(veggie)|(cookie)|(milkshake)|(nugget)|(chili)|(feast)|(liquor)|(diner)|(cupcake)|(margarita)|(bun)|(dessert)|(pitcher)|(wendy)|(joes)|(market)|(bubble)|(mcdonald)|(pancake)|(vodka)|(bread)|(mimosa)|(domino)|(beverage)|(sus...\n                                                      :              :        +- Sort [index#3594L ASC NULLS FIRST], true\n                                                      :              :           +- ExceptAll true\n                                                      :              :              :- Project [index#3594L, lower(description#3584) AS description#3605]\n                                                      :              :              :  +- SubqueryAlias `venmo`\n                                                      :              :              :     +- Project [user1#3580, user2#3581, transaction_type#3582, datetime#3583, description#3584, is_business#3585, story_id#3586, monotonically_increasing_id() AS index#3594L]\n                                                      :              :              :        +- RelationV2[user1#3580, user2#3581, transaction_type#3582, datetime#3583, description#3584, is_business#3585, story_id#3586] parquet file:/content/drive/My Drive/423 Big Data /HW2/Venmo/VenmoSample.snappy.parquet\n                                                      :              :              +- Project [index#3608L, description#3584]\n                                                      :              :                 +- Filter (hex(description#3584) RLIKE ^[E2|F0]{2} AND NOT description#3584 RLIKE [g-zG-Z?!\\.])\n                                                      :              :                    +- SubqueryAlias `venmo`\n                                                      :              :                       +- Project [user1#3580, user2#3581, transaction_type#3582, datetime#3583, description#3584, is_business#3585, story_id#3586, monotonically_increasing_id() AS index#3608L]\n                                                      :              :                          +- RelationV2[user1#3580, user2#3581, transaction_type#3582, datetime#3583, description#3584, is_business#3585, story_id#3586] parquet file:/content/drive/My Drive/423 Big Data /HW2/Venmo/VenmoSample.snappy.parquet\n                                                      :              +- Project [index#3594L AS index#3619L, description#3584 AS description#3620, class#3615 AS class#3621]\n                                                      :                 +- Project [index#3594L, description#3584, class#3615]\n                                                      :                    +- SubqueryAlias `emoji_class`\n                                                      :                       +- Project [index#3594L, description#3584, CASE WHEN description#3584 RLIKE (❤️)|(👯)|(💕)|(😁)|(🙌🏼)|(👳🏾)|(😎)|(😊)|(💘)|(😘)|(💋)|(👬)|(💗)|(😘)|(🤓)|(🙂)|(😍)|(😊)|(💛)|(😻)|(💕)|(💗)|(💜)|(👩‍👩‍👦)|(👪)|(💋)|(💏) THEN people WHEN description#3584 RLIKE (🍕)|(🍵)|(🌮)|(☕)|(🍰)|(🍴)|(😋)|(🍷)|(🍺)|(🍚)|(🍪)|(🍳)|(🎂)|(🍟)|(🍱)|(🍣)|(🍘)|(🍙)|(🍜)|(🍥)|(🍽)|(🍦)|(🦀)|(🍔)|(🍸)|(🍗)|(🍩)|(🍲)|(🌯)|(🍝)|(🍛)|(🍌)|(🍊)|(🍹)|(🍤)|(🧀)|(🍡)|(🐙)|(🍎)|(🍆)|(🍭)|(🍬)|(🍏)|(🍞)|(🌶)|(🎂)|(☕️)|(🍰)|(🍪)|(🍇)|(🍌)|(🍓)|(🍟)|(🍱)|(🍣)|(🍘)|(🍙)|(🍽)|(🍜)|(🍚)|(🍥)|(🍔)|(🌯)|(🍗)|(🍸)|(🍩)|(🌮)|(🍯)|(🍲)|(🍛)|(🍊)|(🍖)|(🌭)|(🍦)|(🍤)|(🍮)|(🍨)|(🍞)|(🍉)|(🍅)|(🍒)|(🍆)|(🧀)|(🌶)|(🐙)|(🍝)|(🌽)|(🍭)|(🍬)|(🍸)|(🍠)|(🍋)|(🍫)|(🍏)|(🍽)|(🍼)|(🍶)|(🍡)|(🍾)|(🍲)|(🍜)|(🍛)|(🌰)|(😋)|(🍯)|(🐙)|(🦀)|(🎋)|(🍢)|(🌭)|(🍐)|(🍊)|(🍄)|(🍍)|(🍧) THEN food WHEN description#3584 RLIKE (👰)|(🎤)|(🌲)|(💍)|(🎅🏽)|(🎎)|(🎓)|(👰👰)|( 🎁)|(👰🏼)|(💎)|(🎅🏿)|(🎄)|(💮)|(🉐)|(🎃)|(🈴🈂🈺🈵) THEN event WHEN description#3584 RLIKE (🍻)|(🏀)|(🏈)|(👠)|(🎉)|(🎥)|(🎁)|(🔫)|(🏨)|(🚣🏽)|(🍾)|(⛳)|(📚)|(🏐)|(🎬)|(⛺️)|(🛍)|(🎢)|(🎳)|(💅🏼)|(⚽)|(🎤)|(⛷)|(⚾️)|(💇)|(🐳)|(💆🏻)|(🀄)|(🏉)|(✏️)|(📖)|(🎲)|(🎸)|(🎱)|(🎮)|(🎭)|(📷)|(⛑)|(🔫)|(🏋)|(✂️)|(🎬)|(🛍)|(📷)|(📚)|(🏀)|(🎶)|(🚤)|(💆🏻)|(⛳️)|(🏌)|(💃)|(⚽)|(🐲)|( ⛵)|(⚾️)|( 🀄)|(📖)|(✏️)|(🏇)|(🎭)|(⛹🏿)|(⚽️)|(🏂)|(🎨)|(🎥)|(🎫)|(🏊)|(👙)|(🎿)|(🎧)|(🎲)|(🛥)|(🎮)|(🏐)|(🎡)|(🎢)|(🚲)|(🎠)|(🎱)|(\ud83c...\n                                                      :                          +- Project [index#3594L, description#3584]\n                                                      :                             +- Filter (hex(description#3584) RLIKE ^[E2|F0]{2} AND NOT description#3584 RLIKE [g-zG-Z?!\\.])\n                                                      :                                +- SubqueryAlias `venmo`\n                                                      :                                   +- Project [user1#3580, user2#3581, transaction_type#3582, datetime#3583, description#3584, is_business#3585, story_id#3586, monotonically_increasing_id() AS index#3594L]\n                                                      :                                      +- RelationV2[user1#3580, user2#3581, transaction_type#3582, datetime#3583, description#3584, is_business#3585, story_id#3586] parquet file:/content/drive/My Drive/423 Big Data /HW2/Venmo/VenmoSample.snappy.parquet\n                                                      +- SubqueryAlias `t2`\n                                                         +- SubqueryAlias `venmo`\n                                                            +- Project [user1#3580, user2#3581, transaction_type#3582, datetime#3583, description#3584, is_business#3585, story_id#3586, monotonically_increasing_id() AS index#3625L]\n                                                               +- RelationV2[user1#3580, user2#3581, transaction_type#3582, datetime#3583, description#3584, is_business#3585, story_id#3586] parquet file:/content/drive/My Drive/423 Big Data /HW2/Venmo/VenmoSample.snappy.parquet\n"
          ]
        }
      ]
    },
    {
      "cell_type": "code",
      "metadata": {
        "ExecuteTime": {
          "end_time": "2020-05-09T06:52:34.405324Z",
          "start_time": "2020-05-09T06:52:34.357626Z"
        },
        "id": "q80cBm95z1D6",
        "colab_type": "code",
        "colab": {}
      },
      "source": [
        "# add time and category columns for plotting \n",
        "time = []\n",
        "category = []\n",
        "\n",
        "for i in range(len(df_dynamic_summary)):\n",
        "    pos = df_dynamic_summary.summary[i].index(\"_\")\n",
        "    c = df_dynamic_summary.summary[i][pos+1:]  # get category\n",
        "    t = df_dynamic_summary.summary[i][4:pos]   # get lifetime\n",
        "    time.append(t)\n",
        "    category.append(c)\n",
        "\n",
        "df_dynamic_summary[\"time\"] = time\n",
        "df_dynamic_summary[\"category\"] = category\n",
        "\n",
        "# convert data type from string to numeric \n",
        "df_dynamic_summary[\"time\"] = df_dynamic_summary[\"time\"].apply(pd.to_numeric, errors='coerce')\n",
        "df_dynamic_summary[\"mean\"] = df_dynamic_summary[\"mean\"].apply(pd.to_numeric, errors='coerce')\n",
        "df_dynamic_summary[\"stddev\"] = df_dynamic_summary[\"stddev\"].apply(pd.to_numeric, errors='coerce')\n",
        "df_dynamic_summary[\"2std\"] = 2*df_dynamic_summary[\"stddev\"]\n",
        "\n",
        "df_dynamic_summary.head()"
      ],
      "execution_count": 0,
      "outputs": []
    },
    {
      "cell_type": "code",
      "metadata": {
        "ExecuteTime": {
          "end_time": "2020-05-09T06:52:42.722796Z",
          "start_time": "2020-05-09T06:52:42.228580Z"
        },
        "id": "lxP8aqyPz1D_",
        "colab_type": "code",
        "outputId": "7340a616-997f-451a-d69e-59b6a8990208",
        "colab": {}
      },
      "source": [
        "# after lifetime 10, the means for all categories' spendings tend to be stable and close to zero. \n",
        "fig, ax = plt.subplots(figsize=(20, 10))\n",
        "\n",
        "for key, group in df_dynamic_summary.groupby('category'):\n",
        "    group.plot('time', 'mean', yerr='2std', label=key, ax=ax) \n",
        "\n",
        "plt.show()"
      ],
      "execution_count": 0,
      "outputs": [
        {
          "output_type": "display_data",
          "data": {
            "image/png": "[encoded data removed]",
            "text/plain": [
              "<Figure size 1440x720 with 1 Axes>"
            ]
          },
          "metadata": {
            "tags": [],
            "needs_background": "light"
          }
        }
      ]
    },
    {
      "cell_type": "markdown",
      "metadata": {
        "id": "woOc56_cz1EC",
        "colab_type": "text"
      },
      "source": [
        "# Part 2: Social network analytics "
      ]
    },
    {
      "cell_type": "markdown",
      "metadata": {
        "id": "dkyKOWY_z1EC",
        "colab_type": "text"
      },
      "source": [
        "## Q5 Find a user’s friends and friends of friends "
      ]
    },
    {
      "cell_type": "code",
      "metadata": {
        "id": "DYNb5aoc5Z5t",
        "colab_type": "code",
        "colab": {}
      },
      "source": [
        "# find user's friends\n",
        "df_friends = spark.sql(\"select distinct user1 as user, user2 as friends \\\n",
        "                   from \\\n",
        "                    (select distinct user1, user2 from Venmo \\\n",
        "                    union select distinct user2, user1 from Venmo) T\\\n",
        "                   order by user, friends\")\n",
        "\n",
        "df_friends.createOrReplaceTempView(\"df_friends\")\n",
        "#df_friends.show()"
      ],
      "execution_count": 0,
      "outputs": []
    },
    {
      "cell_type": "code",
      "metadata": {
        "id": "ELt9xqqL5aFM",
        "colab_type": "code",
        "colab": {}
      },
      "source": [
        "# full table of user, friends, and friends of friends\n",
        "# may contain some duplicates in friends and fof columns\n",
        "df_edges = spark.sql(\"select t1.user as user, t1.friends as friends, \\\n",
        "                            t2.friends as fof \\\n",
        "                      from df_friends t1, df_friends t2 \\\n",
        "                      where t1.friends=t2.user and t2.friends<>t1.user \\\n",
        "                      order by t1.user, t1.friends, t2.friends \")\n",
        "\n",
        "df_edges.createOrReplaceTempView(\"df_edges\")\n",
        "#df_edges.show()"
      ],
      "execution_count": 0,
      "outputs": []
    },
    {
      "cell_type": "code",
      "metadata": {
        "id": "RTYEWmkiIwWR",
        "colab_type": "code",
        "colab": {}
      },
      "source": [
        "# find user's friends of friends (remove potential duplicates in fof and friends)\n",
        "df_fof = spark.sql(\"select t1.user, fof \\\n",
        "                   from df_edges t1 \\\n",
        "                      left join (select user, friends from df_friends) t2 \\\n",
        "                        on t1.user=t2.user and t1.fof=t2.friends \\\n",
        "                   where fof is null or t2.friends is null \\\n",
        "                   order by t1.user, fof \")\n",
        "df_fof.createOrReplaceTempView(\"df_fof\")\n",
        "#df_fof.show()"
      ],
      "execution_count": 0,
      "outputs": []
    },
    {
      "cell_type": "markdown",
      "metadata": {
        "id": "jGjIM3h35xx9",
        "colab_type": "text"
      },
      "source": [
        "Describe your algorithm and calculate its computational complexity. Can you do it better?"
      ]
    },
    {
      "cell_type": "markdown",
      "metadata": {
        "id": "V41JmJYDz1EX",
        "colab_type": "text"
      },
      "source": [
        "## Q6 Use the dynamic analysis from before, and calculate the social network metrics across a user’s lifetime in Venmo "
      ]
    },
    {
      "cell_type": "markdown",
      "metadata": {
        "id": "uLUeo79KVLfd",
        "colab_type": "text"
      },
      "source": [
        "### i) Number of friends and number of friends of friends"
      ]
    },
    {
      "cell_type": "markdown",
      "metadata": {
        "id": "YAQo826Bz1EY",
        "colab_type": "text"
      },
      "source": [
        "**Number of friends**"
      ]
    },
    {
      "cell_type": "code",
      "metadata": {
        "id": "p2E_LiXez1EY",
        "colab_type": "code",
        "colab": {}
      },
      "source": [
        "# discrete lifetime and number of friends\n",
        "df_dynamic_friendcnt = spark.sql(\"select distinct user1 as user, lifetime_indicator, \\\n",
        "                             count(distinct user2) as friends_cnt \\\n",
        "                   from \\\n",
        "                    (select distinct user1, user2, lifetime_indicator from lifetime_tbl \\\n",
        "                    union select distinct user2, user1, lifetime_indicator from lifetime_tbl) T\\\n",
        "                   group by user, lifetime_indicator \\\n",
        "                   order by user\")\n",
        "\n",
        "df_dynamic_friendcnt.createOrReplaceTempView(\"df_dynamic_friendcnt\")\n",
        "#df_dynamic_friendcnt.show()"
      ],
      "execution_count": 0,
      "outputs": []
    },
    {
      "cell_type": "code",
      "metadata": {
        "id": "uOrhaq2_E0Lo",
        "colab_type": "code",
        "colab": {}
      },
      "source": [
        "# create continuous user lifetime\n",
        "lst = [0,1,2,3,4,5,6,7,8,9,10,11,12]\n",
        "df_usertime = df_dynamic_friendcnt.select(\"user\").withColumn(\"time_lst\", F.array([F.lit(x) for x in lst]))\n",
        "df_usertime = df_usertime.withColumn(\"time_lst\", F.explode(col(\"time_lst\")))\n",
        "df_usertime.createOrReplaceTempView(\"df_usertime\")\n",
        "\n",
        "df_lifetime_friends = spark.sql(\"select user, lifetime_indicator, \\\n",
        "                            max(ifnull(friends_cnt,0)) as friends_cnt \\\n",
        "                        from \\\n",
        "                        (select user, lifetime_indicator, friends_cnt from df_dynamic_friendcnt \\\n",
        "                          union \\\n",
        "                         select user, time_lst, null as friends_cnt from df_usertime) T \\\n",
        "                        group by user, lifetime_indicator \\\n",
        "                        order by user, lifetime_indicator\")\n",
        "df_lifetime_friends.createOrReplaceTempView(\"df_lifetime_friends\")\n",
        "#df_lifetime_friends.show()"
      ],
      "execution_count": 0,
      "outputs": []
    },
    {
      "cell_type": "code",
      "metadata": {
        "id": "mVUZk5p0RV6D",
        "colab_type": "code",
        "colab": {}
      },
      "source": [
        "# continuous lifetime, number of friends, cumulative number of friends\n",
        "df_dynamic_cum_friends = spark.sql(\"select user, lifetime_indicator, friends_cnt, \\\n",
        "                                        (sum(friends_cnt) over (partition by user \\\n",
        "                                        order by lifetime_indicator)) as cum_friends \\\n",
        "                                    from df_lifetime_friends \\\n",
        "                                    order by user, lifetime_indicator \")\n",
        "\n",
        "df_dynamic_cum_friends.createOrReplaceTempView(\"df_dynamic_cum_friends\")\n",
        "#df_dynamic_cum_friends.show()"
      ],
      "execution_count": 0,
      "outputs": []
    },
    {
      "cell_type": "markdown",
      "metadata": {
        "id": "ElPh4jyeVZTj",
        "colab_type": "text"
      },
      "source": [
        "**Number of friends of friends**"
      ]
    },
    {
      "cell_type": "code",
      "metadata": {
        "id": "Mt2EceAGsHwJ",
        "colab_type": "code",
        "colab": {}
      },
      "source": [
        "# number of friends of friends for each user lifetime\n",
        "# step 1: find freinds and friends of friends for each user lifetime\n",
        "dynamic_friends = spark.sql(\"select user1 as user, user2 as friends, lifetime_indicator \\\n",
        "                   from \\\n",
        "                    (select distinct user1, user2, lifetime_indicator from lifetime_tbl \\\n",
        "                    union \\\n",
        "                    select distinct user2, user1, lifetime_indicator from lifetime_tbl) T\\\n",
        "                   order by user, lifetime_indicator, friends\")\n",
        "\n",
        "dynamic_friends.createOrReplaceTempView(\"dynamic_friends\")\n",
        "\n",
        "df_dynamic_edges = spark.sql(\"select d1.user, d1.friends, d2.friends as fof, \\\n",
        "                            d1.lifetime_indicator \\\n",
        "                        from dynamic_friends d1, dynamic_friends d2 \\\n",
        "                        where d1.friends=d2.user \\\n",
        "                            and d1.lifetime_indicator = d2.lifetime_indicator \\\n",
        "                            and d2.friends<>d1.user \\\n",
        "                        order by d1.user, d1.lifetime_indicator\")\n",
        "df_dynamic_edges.createOrReplaceTempView(\"df_dynamic_edges\")"
      ],
      "execution_count": 0,
      "outputs": []
    },
    {
      "cell_type": "code",
      "metadata": {
        "id": "PR5KKELeO1q8",
        "colab_type": "code",
        "colab": {}
      },
      "source": [
        "# step 2: deal with situation when user's friends of friends are also in friends list \n",
        "df_dynamic_fof = spark.sql(\"select t1.user, fof, t1.lifetime_indicator \\\n",
        "                   from df_dynamic_edges t1 \\\n",
        "                        left join (select user, friends, \\\n",
        "                            lifetime_indicator from dynamic_friends) t2 \\\n",
        "                        on t1.user=t2.user \\\n",
        "                        and t1.lifetime_indicator=t2.lifetime_indicator \\\n",
        "                        and t1.fof=t2.friends \\\n",
        "                   where fof is null or t2.friends is null \\\n",
        "                   order by t1.user, t1.lifetime_indicator, fof\")\n",
        "\n",
        "df_dynamic_fof.createOrReplaceTempView(\"df_dynamic_fof\")\n",
        "#df_dynamic_fof.show()"
      ],
      "execution_count": 0,
      "outputs": []
    },
    {
      "cell_type": "code",
      "metadata": {
        "id": "J_8qiZfLPG5O",
        "colab_type": "code",
        "colab": {}
      },
      "source": [
        "# step 3: calculate number of fof for each lifetime\n",
        "df_dynamic_fofcnt = spark.sql(\"select distinct user, lifetime_indicator, \\\n",
        "                    count(distinct fof) as fof_cnt \\\n",
        "                  from ( \\\n",
        "                      select d1.user, fof, d1.lifetime_indicator \\\n",
        "                      from dynamic_friends d1 left join df_dynamic_fof d2 \\\n",
        "                      on d1.user=d2.user \\\n",
        "                        and d1.lifetime_indicator=d2.lifetime_indicator) T \\\n",
        "                  group by user, lifetime_indicator \\\n",
        "                  order by user, lifetime_indicator\")\n",
        "\n",
        "df_dynamic_fofcnt.createOrReplaceTempView(\"df_dynamic_fofcnt\")\n",
        "#df_dynamic_fofcnt.show()"
      ],
      "execution_count": 0,
      "outputs": []
    },
    {
      "cell_type": "code",
      "metadata": {
        "id": "2lKM8SGOWywQ",
        "colab_type": "code",
        "colab": {}
      },
      "source": [
        "# step 4: create continuous friends of friends count\n",
        "df_lifetime_fofcnt = spark.sql(\"select user, lifetime_indicator, \\\n",
        "                            max(ifnull(fof_cnt,0)) as fof_cnt \\\n",
        "                        from \\\n",
        "                        (select user, lifetime_indicator, fof_cnt from df_dynamic_fofcnt \\\n",
        "                          union \\\n",
        "                         select user, time_lst, null as fof_cnt from df_usertime) T \\\n",
        "                        group by user, lifetime_indicator \\\n",
        "                        order by user, lifetime_indicator\")\n",
        "df_lifetime_fofcnt.createOrReplaceTempView(\"df_lifetime_fofcnt\")\n",
        "#df_lifetime_fofcnt.show()"
      ],
      "execution_count": 0,
      "outputs": []
    },
    {
      "cell_type": "markdown",
      "metadata": {
        "id": "ScvWCt7eVl94",
        "colab_type": "text"
      },
      "source": [
        "### ii) Clustering coefficient of a user's network"
      ]
    },
    {
      "cell_type": "code",
      "metadata": {
        "id": "SGljijpTC7vV",
        "colab_type": "code",
        "colab": {}
      },
      "source": [
        "# step 1: calculate vertices\n",
        "df_friends_vertices = spark.sql(\"select user, lifetime_indicator, \\\n",
        "                                    cum_friends*(cum_friends-1)/2 as num_vertices \\\n",
        "                                 from df_dynamic_cum_friends \\\n",
        "                                 order by user, lifetime_indicator\")\n",
        "\n",
        "df_friends_vertices.createOrReplaceTempView(\"df_friends_vertices\")\n",
        "#df_friends_vertices.show()"
      ],
      "execution_count": 0,
      "outputs": []
    },
    {
      "cell_type": "code",
      "metadata": {
        "id": "DfSEiEeJC75k",
        "colab_type": "code",
        "colab": {}
      },
      "source": [
        "# find the first time that the two users made transactions\n",
        "t1 = spark.sql(\"select distinct user1, min(datetime) as first_usage_date \\\n",
        "                from \\\n",
        "                    (select user1, datetime from days_lifeindicator_tbl \\\n",
        "                    union select user2, datetime from days_lifeindicator_tbl) T \\\n",
        "                group by user1 \\\n",
        "                order by user1\")\n",
        "\n",
        "t1.createOrReplaceTempView(\"t1\")\n",
        "\n",
        "t2 = spark.sql(\"select distinct user1, user2, datetime, lifetime_indicator \\\n",
        "                from (select user1, user2, datetime, lifetime_indicator \\\n",
        "                      from days_lifeindicator_tbl \\\n",
        "                      union \\\n",
        "                      select user2, user1, datetime, lifetime_indicator \\\n",
        "                      from days_lifeindicator_tbl) T \\\n",
        "                order by user1\")\n",
        "\n",
        "t2.createOrReplaceTempView(\"t2\")\n",
        "\n",
        "dy_first_meet = spark.sql(\"select user1, user2, min(datetime) as first_meet_date, \\\n",
        "                                       min(lifetime_indicator) as first_meet_lifetime, \\\n",
        "                                       first_usage_date \\\n",
        "                            from t2 join t1 using (user1) \\\n",
        "                            group by user1, user2, first_usage_date \\\n",
        "                            order by user1, min(datetime)\")\n",
        "\n",
        "dy_first_meet.createOrReplaceTempView(\"dy_first_meet\")\n",
        "#dy_first_meet.show()"
      ],
      "execution_count": 0,
      "outputs": []
    },
    {
      "cell_type": "code",
      "metadata": {
        "id": "OXGTFkF0C7_E",
        "colab_type": "code",
        "colab": {}
      },
      "source": [
        "# self join\n",
        "df_triangle = spark.sql(\"select d1.user1 as d1_userA, d1.user2 as d2_userB, \\\n",
        "                          d1.first_usage_date as d1_first_usage_date, \\\n",
        "                          d1.first_meet_date as d1_datetime, \\\n",
        "                          d2.user1 as d2_userA, d2.user2 as d2_userB, \\\n",
        "                          d2.first_meet_date as d2_datetime,\\\n",
        "                          d3.user1 as d3_userA, d3.user2 as d3_userB, \\\n",
        "                          d3.first_meet_date as d3_datetime \\\n",
        "                        from dy_first_meet d1 left join dy_first_meet d2 on d1.user2=d2.user1 \\\n",
        "                                                          and d1.user1 <> d2.user2 \\\n",
        "                                left join dy_first_meet d3 on d2.user2=d3.user1 \\\n",
        "                                                          and d2.user1 <> d3.user2 \\\n",
        "                        where d1.user1=d3.user2 \\\n",
        "                        order by d1.user1 \")\n",
        "\n",
        "df_triangle.createOrReplaceTempView(\"df_triangle\")\n",
        "#df_triangle.show(20)"
      ],
      "execution_count": 0,
      "outputs": []
    },
    {
      "cell_type": "code",
      "metadata": {
        "id": "EYmHlQLaC8FV",
        "colab_type": "code",
        "colab": {}
      },
      "source": [
        "df_triangle_life = spark.sql(\"select d1_userA, d2_userA, d3_userA, \\\n",
        "                                ceil(datediff(greatest(d1_datetime, d2_datetime, d3_datetime), \\\n",
        "                                      d1_first_usage_date)/30) as tri_lifetime \\\n",
        "                              from df_triangle\")\n",
        "\n",
        "df_triangle_life.createOrReplaceTempView(\"df_triangle_life\")\n",
        "#df_triangle_life.show()"
      ],
      "execution_count": 0,
      "outputs": []
    },
    {
      "cell_type": "code",
      "metadata": {
        "id": "Cv1Zp0OB1IIv",
        "colab_type": "code",
        "colab": {}
      },
      "source": [
        "df_triangles = spark.sql(\"select d1_userA as user, tri_lifetime, count(*)/2 as num_tris \\\n",
        "           from df_triangle_life \\\n",
        "           where tri_lifetime <= 12 \\\n",
        "           group by d1_userA, tri_lifetime \\\n",
        "           order by d1_userA, tri_lifetime\")\n",
        "\n",
        "df_triangles.createOrReplaceTempView(\"df_triangles\")\n",
        "#df_triangles.show()"
      ],
      "execution_count": 0,
      "outputs": []
    },
    {
      "cell_type": "code",
      "metadata": {
        "id": "y1lYJihL1rgP",
        "colab_type": "code",
        "colab": {}
      },
      "source": [
        "df_fulllife_triangles = spark.sql(\"select user, tri_lifetime as lifetime, \\\n",
        "                                            sum(num_tris) as tot_tris \\\n",
        "                                   from (\\\n",
        "                                      select user, tri_lifetime, num_tris from df_triangles\\\n",
        "                                      union \\\n",
        "                                      select user, time_lst, 0 as num_tris from df_usertime) \\\n",
        "                                   group by user, tri_lifetime \\\n",
        "                                   order by user, tri_lifetime \")\n",
        "\n",
        "window = Window.partitionBy(\"user\").orderBy(\"lifetime\")\n",
        "df_fulllife_triangles = df_fulllife_triangles.withColumn(\"cum_tris\", \n",
        "                        F.sum(\"tot_tris\").over(window)).sort(F.col(\"user\"), F.col(\"lifetime\"))\n",
        "df_fulllife_triangles.createOrReplaceTempView(\"df_fulllife_triangles\")\n",
        "\n",
        "#df_fulllife_triangles.show()"
      ],
      "execution_count": 0,
      "outputs": []
    },
    {
      "cell_type": "code",
      "metadata": {
        "id": "ZdXSNCKHEC83",
        "colab_type": "code",
        "colab": {}
      },
      "source": [
        "df_cluster = spark.sql(\"select t1.user, t1.lifetime, \\\n",
        "                              ifnull(cum_tris/num_vertices,0) as cluster_coeff \\\n",
        "                      from df_fulllife_triangles t1 join df_friends_vertices t2 \\\n",
        "                              on t1.user=t2.user and t1.lifetime = t2.lifetime_indicator \\\n",
        "                      order by t1.user, t1.lifetime\")\n",
        "\n",
        "df_cluster.createOrReplaceTempView(\"df_cluster\")\n",
        "#df_cluster.show()"
      ],
      "execution_count": 0,
      "outputs": []
    },
    {
      "cell_type": "markdown",
      "metadata": {
        "id": "XYCIah9HVr-Y",
        "colab_type": "text"
      },
      "source": [
        "### iii) Calculate the page rank of each user"
      ]
    },
    {
      "cell_type": "code",
      "metadata": {
        "id": "usQ3kJfUz1Eh",
        "colab_type": "code",
        "colab": {}
      },
      "source": [
        "import networkx as nx\n",
        "G = nx.Graph()\n",
        "\n",
        "pairs = df_friends.select(\"user\", \"friends\")\n",
        "nx_tuples = pairs.rdd.map(tuple).collect()\n",
        "G.add_edges_from(nx_tuples)"
      ],
      "execution_count": 0,
      "outputs": []
    },
    {
      "cell_type": "code",
      "metadata": {
        "id": "Zm4aMBnhpShi",
        "colab_type": "code",
        "outputId": "d56a4f02-4a0d-4a43-8f7a-320531eb28b2",
        "colab": {
          "base_uri": "https://localhost:8080/",
          "height": 187
        }
      },
      "source": [
        "pagerank = nx.pagerank_scipy(G)\n",
        "dict(list(pagerank.items())[0:10])"
      ],
      "execution_count": 0,
      "outputs": [
        {
          "output_type": "execute_result",
          "data": {
            "text/plain": [
              "{2: 4.157477977789461e-07,\n",
              " 3: 8.653820777473779e-07,\n",
              " 43: 3.2127973908043654e-06,\n",
              " 52: 1.6571325641882515e-07,\n",
              " 220: 1.435516964442576e-07,\n",
              " 191142: 2.7629757837595304e-07,\n",
              " 263437: 7.489934678145929e-07,\n",
              " 567957: 8.505700929517217e-07,\n",
              " 1079020: 4.2278735212380876e-07,\n",
              " 1204190: 8.981909064048241e-07}"
            ]
          },
          "metadata": {
            "tags": []
          },
          "execution_count": 163
        }
      ]
    },
    {
      "cell_type": "code",
      "metadata": {
        "id": "SoWc7Nsg5gT5",
        "colab_type": "code",
        "colab": {}
      },
      "source": [
        "# covert dictionary to pyspark dateframe\n",
        "df_pagerank = pd.DataFrame(pagerank.items(), columns=['user', 'pagerank'])\n",
        "df_pagerank = spark.createDataFrame(df_pagerank)\n",
        "df_pagerank.createOrReplaceTempView(\"df_pagerank\")\n",
        "#df_pagerank.show()"
      ],
      "execution_count": 0,
      "outputs": []
    },
    {
      "cell_type": "markdown",
      "metadata": {
        "id": "30c9PN0ez1FW",
        "colab_type": "text"
      },
      "source": [
        "# Part 3: Predictive analytics with MLlib "
      ]
    },
    {
      "cell_type": "markdown",
      "metadata": {
        "id": "foI_CzdHz1FX",
        "colab_type": "text"
      },
      "source": [
        "## Q7 Create dependent variable Y - the total number of transactions during her/his twelve months in Venmo"
      ]
    },
    {
      "cell_type": "code",
      "metadata": {
        "ExecuteTime": {
          "end_time": "2020-05-11T02:37:05.424750Z",
          "start_time": "2020-05-11T02:26:41.804917Z"
        },
        "id": "6m5jkfJoz1FZ",
        "colab_type": "code",
        "colab": {}
      },
      "source": [
        "# calculate total number of transactions for each user on Venmo\n",
        "df_y = spark.sql(\"select user1, count(*) as y \\\n",
        "                  from lifetime_tbl group by user1 \\\n",
        "                  order by user1\")\n",
        "df_y.createOrReplaceTempView(\"df_y\")\n",
        "#df_y.show()"
      ],
      "execution_count": 0,
      "outputs": []
    },
    {
      "cell_type": "markdown",
      "metadata": {
        "id": "21043nHaz1Fb",
        "colab_type": "text"
      },
      "source": [
        "## Q8 Create the recency and frequency variables "
      ]
    },
    {
      "cell_type": "code",
      "metadata": {
        "ExecuteTime": {
          "end_time": "2020-05-11T02:38:43.740544Z",
          "start_time": "2020-05-11T02:38:43.553863Z"
        },
        "id": "3zG0bpAoz1Fd",
        "colab_type": "code",
        "colab": {}
      },
      "source": [
        "# create dataframe with two columns: user1 and time_list (0-12)\n",
        "# each user has lifetime 0 to 12\n",
        "lst = [0,1,2,3,4,5,6,7,8,9,10,11,12]\n",
        "df_timelst = df_y.withColumn(\"time_lst\", F.array([F.lit(x) for x in lst]))\n",
        "df_timelst = df_timelst.withColumn(\"time_lst\", F.explode(col(\"time_lst\")))\n",
        "\n",
        "# summarize number of transactions and the last transaction day in each lifetime period\n",
        "df_summary = spark.sql(\"select user1, lifetime_indicator, count(*) as freq_times, \\\n",
        "                              max(days) as max_days \\\n",
        "                        from lifetime_tbl \\\n",
        "                        group by user1, lifetime_indicator\")\n",
        "\n",
        "df_timelst.createOrReplaceTempView(\"df_timelst\")\n",
        "df_summary.createOrReplaceTempView(\"df_summary\")"
      ],
      "execution_count": 0,
      "outputs": []
    },
    {
      "cell_type": "code",
      "metadata": {
        "ExecuteTime": {
          "end_time": "2020-05-11T02:52:15.044121Z",
          "start_time": "2020-05-11T02:38:47.752461Z"
        },
        "id": "nB4Sa5uXz1Fm",
        "colab_type": "code",
        "colab": {}
      },
      "source": [
        "# union dataframes and remove duplicated lifetime\n",
        "df_distinct_summary = spark.sql(\"select user1, lifetime_indicator, max(max_days) as max_days, \\\n",
        "                        max(freq_times) as freq_times \\\n",
        "                  from \\\n",
        "                      (select user1, lifetime_indicator, max_days, freq_times from df_summary \\\n",
        "                      union  \\\n",
        "                      select user1, time_lst, null as max_days, null as freq_times \\\n",
        "                      from df_timelst) T \\\n",
        "                  group by user1, lifetime_indicator \\\n",
        "                  order by user1, lifetime_indicator \")\n",
        "\n",
        "df_distinct_summary.createOrReplaceTempView(\"df_distinct_summary\")\n",
        "#df_distinct_summary.show()"
      ],
      "execution_count": 0,
      "outputs": []
    },
    {
      "cell_type": "code",
      "metadata": {
        "id": "fzKQcVJcsfko",
        "colab_type": "code",
        "colab": {}
      },
      "source": [
        "# calculate frequency and recency\n",
        "# frequency: (ACCUMULATED) \n",
        "    #how often a user uses Venmo in a month. It is standardized and equals to (number of transactions/30)\n",
        "# recency: the last time a user was active\n",
        "    #if a user has used Venmo twice during her first month in Venmo with the second time being on day x, \n",
        "    #then her recency in month 1 is “30-x”\n",
        "\n",
        "df_x = spark.sql(\"select user1, lifetime_indicator, max_days, \\\n",
        "                    ifnull(freq_times, 0)/30 as frequency, \\\n",
        "                    sum(ifnull(freq_times, 0)) \\\n",
        "                    over (partition by user1 \\\n",
        "                    order by lifetime_indicator asc \\\n",
        "                    range between unbounded preceding and current row) as cum_freq, \\\n",
        "                (lifetime_indicator*30-max(max_days) \\\n",
        "                    over(partition by user1 \\\n",
        "                         order by lifetime_indicator asc \\\n",
        "                         range between unbounded preceding and current row)) as recency \\\n",
        "              from df_distinct_summary \\\n",
        "              order by user1, lifetime_indicator\")\n",
        "df_x.createOrReplaceTempView(\"df_x\")\n",
        "\n",
        "# add cumulative frequency\n",
        "df_x = spark.sql(\"select user1, lifetime_indicator, max_days,\\\n",
        "                    frequency, \\\n",
        "                    cum_freq/(30*if(lifetime_indicator=0, 1, lifetime_indicator)) as cum_frequency, \\\n",
        "                    recency \\\n",
        "                  from df_x \\\n",
        "              order by user1, lifetime_indicator\")\n",
        "\n",
        "df_x.createOrReplaceTempView(\"df_x\")\n",
        "#df_x.show(60)"
      ],
      "execution_count": 0,
      "outputs": []
    },
    {
      "cell_type": "markdown",
      "metadata": {
        "id": "swcUlHCmz1F0",
        "colab_type": "text"
      },
      "source": [
        "## Q9 For each user’s lifetime point, regress recency and frequency on ​Y. Plot the MSE for each lifetime point "
      ]
    },
    {
      "cell_type": "code",
      "metadata": {
        "ExecuteTime": {
          "end_time": "2020-05-11T06:24:46.513533Z",
          "start_time": "2020-05-11T06:07:10.616365Z"
        },
        "code_folding": [],
        "id": "KPrYCcflz1F1",
        "colab_type": "code",
        "colab": {}
      },
      "source": [
        "# join tables to combine user lifetime, frequency, recency and number of total transactions (y)\n",
        "df_input = spark.sql(\"select user1, lifetime_indicator, frequency, cum_frequency, \\\n",
        "                              recency, y \\\n",
        "                  from df_x join df_y using (user1) \\\n",
        "                  order by user1, lifetime_indicator\")\n",
        "df_input.createOrReplaceTempView(\"df_input\")\n",
        "#df_input.show()"
      ],
      "execution_count": 0,
      "outputs": []
    },
    {
      "cell_type": "code",
      "metadata": {
        "ExecuteTime": {
          "end_time": "2020-05-12T05:34:15.264636Z",
          "start_time": "2020-05-12T05:34:13.293282Z"
        },
        "id": "RJDEkhcSz1F3",
        "colab_type": "code",
        "colab": {}
      },
      "source": [
        "df_input_time0 = spark.sql(\"select * from df_input where lifetime_indicator=0 \")\n",
        "df_input_time1 = spark.sql(\"select * from df_input where lifetime_indicator=1 \")\n",
        "df_input_time2 = spark.sql(\"select * from df_input where lifetime_indicator=2 \")\n",
        "df_input_time3 = spark.sql(\"select * from df_input where lifetime_indicator=3 \")\n",
        "df_input_time4 = spark.sql(\"select * from df_input where lifetime_indicator=4 \")\n",
        "df_input_time5 = spark.sql(\"select * from df_input where lifetime_indicator=5 \")\n",
        "df_input_time6 = spark.sql(\"select * from df_input where lifetime_indicator=6 \")\n",
        "df_input_time7 = spark.sql(\"select * from df_input where lifetime_indicator=7 \")\n",
        "df_input_time8 = spark.sql(\"select * from df_input where lifetime_indicator=8 \")\n",
        "df_input_time9 = spark.sql(\"select * from df_input where lifetime_indicator=9 \")\n",
        "df_input_time10 = spark.sql(\"select * from df_input where lifetime_indicator=10 \")\n",
        "df_input_time11 = spark.sql(\"select * from df_input where lifetime_indicator=11 \")\n",
        "df_input_time12 = spark.sql(\"select * from df_input where lifetime_indicator=12 \")"
      ],
      "execution_count": 0,
      "outputs": []
    },
    {
      "cell_type": "code",
      "metadata": {
        "ExecuteTime": {
          "end_time": "2020-05-12T05:41:46.695980Z",
          "start_time": "2020-05-12T05:41:46.602133Z"
        },
        "id": "AVZCZtwIz1GX",
        "colab_type": "code",
        "colab": {}
      },
      "source": [
        "def lifetimeMSE(inputdata):\n",
        "    Assembler = VectorAssembler(inputCols = ['lifetime_indicator', 'frequency', \n",
        "                                             'cum_frequency','recency'], \n",
        "                                outputCol ='features')\n",
        "    output = Assembler.transform(inputdata)\n",
        "    finalData = output.select('features','y')\n",
        "    trainData, testData = finalData.randomSplit([0.7, 0.3], seed=1)\n",
        "    lrModel = LinearRegression(labelCol ='y', featuresCol='features')\n",
        "    lrEstimator = lrModel.fit(trainData)\n",
        "    testResults = lrEstimator.evaluate(testData)\n",
        "    rmse = testResults.rootMeanSquaredError\n",
        "    mse = rmse**2\n",
        "    return mse"
      ],
      "execution_count": 0,
      "outputs": []
    },
    {
      "cell_type": "code",
      "metadata": {
        "ExecuteTime": {
          "end_time": "2020-05-12T05:49:55.705085Z",
          "start_time": "2020-05-12T05:49:50.712460Z"
        },
        "id": "nYyKDwA4z1Gl",
        "colab_type": "code",
        "outputId": "41b3809a-e623-4e5f-b141-97e0d6664fba",
        "colab": {
          "base_uri": "https://localhost:8080/",
          "height": 119
        }
      },
      "source": [
        "MSE_time0 = lifetimeMSE(df_input_time0)\n",
        "print(MSE_time0)\n",
        "MSE_time1 = lifetimeMSE(df_input_time1)\n",
        "print(MSE_time1)\n",
        "MSE_time2 = lifetimeMSE(df_input_time2)\n",
        "print(MSE_time2)\n",
        "MSE_time3 = lifetimeMSE(df_input_time3)\n",
        "print(MSE_time3)\n",
        "MSE_time4 = lifetimeMSE(df_input_time4)\n",
        "print(MSE_time4)\n",
        "MSE_time5 = lifetimeMSE(df_input_time5)\n",
        "print(MSE_time5)"
      ],
      "execution_count": 0,
      "outputs": [
        {
          "output_type": "stream",
          "text": [
            "7.652437351481585\n",
            "6.691173069837235\n",
            "6.446252930703639\n",
            "5.932649981257501\n",
            "5.4084412991178805\n",
            "5.1461627088341375\n"
          ],
          "name": "stdout"
        }
      ]
    },
    {
      "cell_type": "code",
      "metadata": {
        "id": "6Oq-GhTDHbZ0",
        "colab_type": "code",
        "outputId": "8d2b6533-44ef-47e3-a12c-4eacd3beb25c",
        "colab": {
          "base_uri": "https://localhost:8080/",
          "height": 272
        }
      },
      "source": [
        "MSE_time6 = lifetimeMSE(df_input_time6)\n",
        "MSE_time7 = lifetimeMSE(df_input_time7)\n",
        "MSE_time8 = lifetimeMSE(df_input_time8)\n",
        "MSE_time9 = lifetimeMSE(df_input_time9)\n",
        "MSE_time10 = lifetimeMSE(df_input_time10)\n",
        "MSE_time11 = lifetimeMSE(df_input_time11)\n",
        "print(MSE_time11)\n",
        "MSE_time12 = lifetimeMSE(df_input_time12)\n",
        "print(MSE_time12)\n",
        "\n",
        "MSE = []\n",
        "MSE.extend([MSE_time0, MSE_time1, MSE_time2, MSE_time3, MSE_time4, MSE_time5, MSE_time6, \n",
        "            MSE_time7, MSE_time8, MSE_time9, MSE_time10, MSE_time11, MSE_time12])\n",
        "MSE"
      ],
      "execution_count": 0,
      "outputs": [
        {
          "output_type": "stream",
          "text": [
            "3.9360616020741523\n",
            "4.0460952793410225\n"
          ],
          "name": "stdout"
        },
        {
          "output_type": "execute_result",
          "data": {
            "text/plain": [
              "[7.652437351481585,\n",
              " 6.691173069837235,\n",
              " 6.446252930703639,\n",
              " 5.932649981257501,\n",
              " 5.4084412991178805,\n",
              " 5.1461627088341375,\n",
              " 4.598004098833828,\n",
              " 4.474719220817289,\n",
              " 4.212880388012137,\n",
              " 4.169087571580209,\n",
              " 4.085268865599057,\n",
              " 3.9360616020741523,\n",
              " 4.0460952793410225]"
            ]
          },
          "metadata": {
            "tags": []
          },
          "execution_count": 26
        }
      ]
    },
    {
      "cell_type": "code",
      "metadata": {
        "id": "BKCmHuoryaxb",
        "colab_type": "code",
        "outputId": "e0580d5d-9953-4de7-d883-97a5d6396b20",
        "colab": {
          "base_uri": "https://localhost:8080/",
          "height": 282
        }
      },
      "source": [
        "Lifetime = [0,1,2,3,4,5,6,7,8,9,10,11,12]\n",
        "plt.plot(Lifetime, MSE, 'go--', linewidth=2, markersize=12) "
      ],
      "execution_count": 0,
      "outputs": [
        {
          "output_type": "execute_result",
          "data": {
            "text/plain": [
              "[<matplotlib.lines.Line2D at 0x7f424ba9b128>]"
            ]
          },
          "metadata": {
            "tags": []
          },
          "execution_count": 27
        },
        {
          "output_type": "display_data",
          "data": {
            "image/png": "[encoded data removed]",
            "text/plain": [
              "<Figure size 432x288 with 1 Axes>"
            ]
          },
          "metadata": {
            "tags": [],
            "needs_background": "light"
          }
        }
      ]
    },
    {
      "cell_type": "markdown",
      "metadata": {
        "id": "EgAMosK4z1Gv",
        "colab_type": "text"
      },
      "source": [
        "## Q10 For each user’s lifetime point, regress recency, frequency AND her spending behavior profile on Y. Plot the MSE for each lifetime point like above"
      ]
    },
    {
      "cell_type": "code",
      "metadata": {
        "id": "Lmf_VRIr86Ki",
        "colab_type": "code",
        "outputId": "2347b4ed-e826-4bf3-b4b8-54d291e2e3ea",
        "colab": {
          "base_uri": "https://localhost:8080/",
          "height": 498
        }
      },
      "source": [
        "df_dycfull_profile = spark.sql(\"select user1, lifetime_indicator, \\\n",
        "                    max(frequency) as frequency, \\\n",
        "                    sum(max(frequency)) \\\n",
        "                      over (partition by user1 \\\n",
        "                      order by lifetime_indicator asc \\\n",
        "                      range between unbounded preceding and current row) as cum_freq, \\\n",
        "                    max(recency) as recency, max(ifnull(people,0)) as people, \\\n",
        "                    max(ifnull(food,0)) as food, max(ifnull(activity,0)) as activity, \\\n",
        "                    max(ifnull(event,0)) as event, max(ifnull(travel,0)) as travel, \\\n",
        "                    max(ifnull(cash,0)) as cash, max(ifnull(utility,0)) as utility, \\\n",
        "                    max(ifnull(trasportation,0)) as trasportation, \\\n",
        "                    max(ifnull(illegal_sarcasm,0)) as illegal_sarcasm, \\\n",
        "                    max(ifnull(no_class,0)) as no_class \\\n",
        "                  from \\\n",
        "                      (select *, null as frequency, null as recency from dynamic_profile \\\n",
        "                      union  \\\n",
        "                      select user1, lifetime_indicator, \\\n",
        "                          null,null,null,null,null,null,null,null,null,null, \\\n",
        "                          frequency, recency from df_input) T \\\n",
        "                  group by user1, lifetime_indicator \\\n",
        "                  order by user1, lifetime_indicator  \")\n",
        "\n",
        "df_dycfull_profile.createOrReplaceTempView(\"df_dycfull_profile\")\n",
        "\n",
        "# add cumulative frequency\n",
        "df_dycfull_profile = spark.sql(\"select user1, lifetime_indicator, frequency, \\\n",
        "                    cum_freq/(30*if(lifetime_indicator=0, 1, lifetime_indicator)) as cum_frequency,\\\n",
        "                    recency, people, food, activity, event, travel, cash, utility, \\\n",
        "                    trasportation, illegal_sarcasm, no_class \\\n",
        "                  from df_dycfull_profile \\\n",
        "                  order by user1, lifetime_indicator \")\n",
        "\n",
        "df_dycfull_profile.createOrReplaceTempView(\"df_dycfull_profile\")\n",
        "df_dycfull_profile.show()"
      ],
      "execution_count": 0,
      "outputs": [
        {
          "output_type": "stream",
          "text": [
            "+-----+------------------+-------------------+--------------------+-------+------+----+--------+-----+------+----+-------+-------------+---------------+--------+\n",
            "|user1|lifetime_indicator|          frequency|       cum_frequency|recency|people|food|activity|event|travel|cash|utility|trasportation|illegal_sarcasm|no_class|\n",
            "+-----+------------------+-------------------+--------------------+-------+------+----+--------+-----+------+----+-------+-------------+---------------+--------+\n",
            "|    2|                 0|0.03333333333333333|0.001111111111111...|      0|   0.0| 1.0|     0.0|  0.0|   0.0| 0.0|    0.0|          0.0|            0.0|     0.0|\n",
            "|    2|                 1|                0.0|0.001111111111111...|     30|   0.0| 0.0|     0.0|  0.0|   0.0| 0.0|    0.0|          0.0|            0.0|     0.0|\n",
            "|    2|                 2|                0.0|5.555555555555556E-4|     60|   0.0| 0.0|     0.0|  0.0|   0.0| 0.0|    0.0|          0.0|            0.0|     0.0|\n",
            "|    2|                 3|                0.0|3.703703703703703...|     90|   0.0| 0.0|     0.0|  0.0|   0.0| 0.0|    0.0|          0.0|            0.0|     0.0|\n",
            "|    2|                 4|                0.0|2.777777777777778E-4|    120|   0.0| 0.0|     0.0|  0.0|   0.0| 0.0|    0.0|          0.0|            0.0|     0.0|\n",
            "|    2|                 5|                0.0|2.222222222222222E-4|    150|   0.0| 0.0|     0.0|  0.0|   0.0| 0.0|    0.0|          0.0|            0.0|     0.0|\n",
            "|    2|                 6|                0.0|1.851851851851851...|    180|   0.0| 0.0|     0.0|  0.0|   0.0| 0.0|    0.0|          0.0|            0.0|     0.0|\n",
            "|    2|                 7|                0.0|1.587301587301587...|    210|   0.0| 0.0|     0.0|  0.0|   0.0| 0.0|    0.0|          0.0|            0.0|     0.0|\n",
            "|    2|                 8|                0.0|1.388888888888889E-4|    240|   0.0| 0.0|     0.0|  0.0|   0.0| 0.0|    0.0|          0.0|            0.0|     0.0|\n",
            "|    2|                 9|                0.0|1.234567901234568E-4|    270|   0.0| 0.0|     0.0|  0.0|   0.0| 0.0|    0.0|          0.0|            0.0|     0.0|\n",
            "|    2|                10|                0.0|1.111111111111111E-4|    300|   0.0| 0.0|     0.0|  0.0|   0.0| 0.0|    0.0|          0.0|            0.0|     0.0|\n",
            "|    2|                11|                0.0|1.010101010101010...|    330|   0.0| 0.0|     0.0|  0.0|   0.0| 0.0|    0.0|          0.0|            0.0|     0.0|\n",
            "|    2|                12|                0.0|9.259259259259259E-5|    360|   0.0| 0.0|     0.0|  0.0|   0.0| 0.0|    0.0|          0.0|            0.0|     0.0|\n",
            "|    3|                 0|0.06666666666666667|0.002222222222222...|      0|   0.0| 0.5|     0.0|  0.0|   0.0| 0.5|    0.0|          0.0|            0.0|     0.0|\n",
            "|    3|                 1|                0.2|0.008888888888888889|     13|  0.17|0.17|    0.17|  0.0|   0.0|0.33|   0.17|          0.0|            0.0|     0.0|\n",
            "|    3|                 2|                0.0|0.004444444444444...|     43|   0.0| 0.0|     0.0|  0.0|   0.0| 0.0|    0.0|          0.0|            0.0|     0.0|\n",
            "|    3|                 3|                0.0|0.002962962962962963|     73|   0.0| 0.0|     0.0|  0.0|   0.0| 0.0|    0.0|          0.0|            0.0|     0.0|\n",
            "|    3|                 4|                0.0|0.002222222222222...|    103|   0.0| 0.0|     0.0|  0.0|   0.0| 0.0|    0.0|          0.0|            0.0|     0.0|\n",
            "|    3|                 5|                0.0|0.001777777777777...|    133|   0.0| 0.0|     0.0|  0.0|   0.0| 0.0|    0.0|          0.0|            0.0|     0.0|\n",
            "|    3|                 6|                0.0|0.001481481481481...|    163|   0.0| 0.0|     0.0|  0.0|   0.0| 0.0|    0.0|          0.0|            0.0|     0.0|\n",
            "+-----+------------------+-------------------+--------------------+-------+------+----+--------+-----+------+----+-------+-------------+---------------+--------+\n",
            "only showing top 20 rows\n",
            "\n"
          ],
          "name": "stdout"
        }
      ]
    },
    {
      "cell_type": "code",
      "metadata": {
        "id": "p5wqbRWRz1G2",
        "colab_type": "code",
        "colab": {}
      },
      "source": [
        "df_dynamic_input = spark.sql(\"select * \\\n",
        "                  from df_dycfull_profile join df_y using (user1) \\\n",
        "                  order by user1, lifetime_indicator\")\n",
        "\n",
        "df_dynamic_input.createOrReplaceTempView(\"df_dynamic_input\")"
      ],
      "execution_count": 0,
      "outputs": []
    },
    {
      "cell_type": "code",
      "metadata": {
        "id": "GHXVYb37I0K5",
        "colab_type": "code",
        "colab": {}
      },
      "source": [
        "df_dynamic_input_time0 = spark.sql(\"select * from df_dynamic_input where lifetime_indicator=0 \")\n",
        "df_dynamic_input_time1 = spark.sql(\"select * from df_dynamic_input where lifetime_indicator=1 \")\n",
        "df_dynamic_input_time2 = spark.sql(\"select * from df_dynamic_input where lifetime_indicator=2 \")\n",
        "df_dynamic_input_time3 = spark.sql(\"select * from df_dynamic_input where lifetime_indicator=3 \")\n",
        "df_dynamic_input_time4 = spark.sql(\"select * from df_dynamic_input where lifetime_indicator=4 \")\n",
        "df_dynamic_input_time5 = spark.sql(\"select * from df_dynamic_input where lifetime_indicator=5 \")\n",
        "df_dynamic_input_time6 = spark.sql(\"select * from df_dynamic_input where lifetime_indicator=6 \")\n",
        "df_dynamic_input_time7 = spark.sql(\"select * from df_dynamic_input where lifetime_indicator=7 \")\n",
        "df_dynamic_input_time8 = spark.sql(\"select * from df_dynamic_input where lifetime_indicator=8 \")\n",
        "df_dynamic_input_time9 = spark.sql(\"select * from df_dynamic_input where lifetime_indicator=9 \")\n",
        "df_dynamic_input_time10 = spark.sql(\"select * from df_dynamic_input where lifetime_indicator=10 \")\n",
        "df_dynamic_input_time11 = spark.sql(\"select * from df_dynamic_input where lifetime_indicator=11 \")\n",
        "df_dynamic_input_time12 = spark.sql(\"select * from df_dynamic_input where lifetime_indicator=12 \")"
      ],
      "execution_count": 0,
      "outputs": []
    },
    {
      "cell_type": "code",
      "metadata": {
        "id": "rx-NNEbrI0bn",
        "colab_type": "code",
        "colab": {}
      },
      "source": [
        "def dynamicMSE(inputdata):\n",
        "    Assembler = VectorAssembler(inputCols = ['lifetime_indicator', 'frequency', \n",
        "                            'cum_frequency','recency', 'people', 'food', \n",
        "                            'activity', 'event', 'travel', 'cash',\n",
        "                            'utility', 'trasportation', 'illegal_sarcasm', 'no_class'], \n",
        "                                outputCol ='features')\n",
        "    output = Assembler.transform(inputdata)\n",
        "    finalData = output.select('features','y')\n",
        "    trainData, testData = finalData.randomSplit([0.7, 0.3], seed=1)\n",
        "    lrModel = LinearRegression(labelCol ='y', featuresCol='features')\n",
        "    lrEstimator = lrModel.fit(trainData)\n",
        "    testResults = lrEstimator.evaluate(testData)\n",
        "    rmse = testResults.rootMeanSquaredError\n",
        "    mse = rmse**2\n",
        "    return mse"
      ],
      "execution_count": 0,
      "outputs": []
    },
    {
      "cell_type": "code",
      "metadata": {
        "id": "eriP9VhgI0rK",
        "colab_type": "code",
        "outputId": "a273a353-59ab-4a20-eaa3-934744f69c0f",
        "colab": {
          "base_uri": "https://localhost:8080/",
          "height": 323
        }
      },
      "source": [
        "dynamic_MSE_time0 = dynamicMSE(df_dynamic_input_time0)\n",
        "dynamic_MSE_time1 = dynamicMSE(df_dynamic_input_time1)\n",
        "dynamic_MSE_time2 = dynamicMSE(df_dynamic_input_time2)\n",
        "dynamic_MSE_time3 = dynamicMSE(df_dynamic_input_time3)\n",
        "dynamic_MSE_time4 = dynamicMSE(df_dynamic_input_time4)\n",
        "dynamic_MSE_time5 = dynamicMSE(df_dynamic_input_time5)\n",
        "dynamic_MSE_time6 = dynamicMSE(df_dynamic_input_time6)\n",
        "dynamic_MSE_time7 = dynamicMSE(df_dynamic_input_time7)\n",
        "dynamic_MSE_time8 = dynamicMSE(df_dynamic_input_time8)\n",
        "print(dynamic_MSE_time8)\n",
        "dynamic_MSE_time9 = dynamicMSE(df_dynamic_input_time9)\n",
        "print(dynamic_MSE_time9)\n",
        "dynamic_MSE_time10 = dynamicMSE(df_dynamic_input_time10)\n",
        "print(dynamic_MSE_time10)\n",
        "dynamic_MSE_time11 = dynamicMSE(df_dynamic_input_time11)\n",
        "print(dynamic_MSE_time11)\n",
        "dynamic_MSE_time12 = dynamicMSE(df_dynamic_input_time12)\n",
        "print(dynamic_MSE_time12)\n",
        "\n",
        "dynamic_MSE = []\n",
        "dynamic_MSE.extend([dynamic_MSE_time0, dynamic_MSE_time1, dynamic_MSE_time2, \n",
        "                    dynamic_MSE_time3, dynamic_MSE_time4, dynamic_MSE_time5, \n",
        "                    dynamic_MSE_time6, dynamic_MSE_time7, dynamic_MSE_time8, \n",
        "                    dynamic_MSE_time9, dynamic_MSE_time10, dynamic_MSE_time11, \n",
        "                    dynamic_MSE_time12])\n",
        "dynamic_MSE"
      ],
      "execution_count": 0,
      "outputs": [
        {
          "output_type": "stream",
          "text": [
            "4.133952392398463\n",
            "3.9143145286213525\n",
            "3.9224805975974513\n",
            "3.9707377366893613\n",
            "3.9371401169889655\n"
          ],
          "name": "stdout"
        },
        {
          "output_type": "execute_result",
          "data": {
            "text/plain": [
              "[7.77942060977086,\n",
              " 6.811480563454807,\n",
              " 6.419777085708892,\n",
              " 5.822322144035492,\n",
              " 5.196309794718509,\n",
              " 4.881407957874058,\n",
              " 4.443287721307322,\n",
              " 4.318292191885376,\n",
              " 4.133952392398463,\n",
              " 3.9143145286213525,\n",
              " 3.9224805975974513,\n",
              " 3.9707377366893613,\n",
              " 3.9371401169889655]"
            ]
          },
          "metadata": {
            "tags": []
          },
          "execution_count": 29
        }
      ]
    },
    {
      "cell_type": "code",
      "metadata": {
        "id": "FEIhvHRMM4XV",
        "colab_type": "code",
        "outputId": "636e85fc-21bd-46b9-8ca9-f411d517b096",
        "colab": {
          "base_uri": "https://localhost:8080/",
          "height": 282
        }
      },
      "source": [
        "Lifetime = [0,1,2,3,4,5,6,7,8,9,10,11,12]\n",
        "plt.plot(Lifetime, dynamic_MSE, 'b--o', color='darkred', linewidth=2, markersize=12) "
      ],
      "execution_count": 0,
      "outputs": [
        {
          "output_type": "execute_result",
          "data": {
            "text/plain": [
              "[<matplotlib.lines.Line2D at 0x7f012ed03cf8>]"
            ]
          },
          "metadata": {
            "tags": []
          },
          "execution_count": 2
        },
        {
          "output_type": "display_data",
          "data": {
            "image/png": "[encoded data removed]",
            "text/plain": [
              "<Figure size 432x288 with 1 Axes>"
            ]
          },
          "metadata": {
            "tags": [],
            "needs_background": "light"
          }
        }
      ]
    },
    {
      "cell_type": "markdown",
      "metadata": {
        "id": "ybhTNdLqz1G9",
        "colab_type": "text"
      },
      "source": [
        "## Q11 For each user’s lifetime point, regress her social network metrics on Y. Plot the MSE for each lifetime point like above"
      ]
    },
    {
      "cell_type": "code",
      "metadata": {
        "id": "9apU7SP-z1G-",
        "colab_type": "code",
        "colab": {}
      },
      "source": [
        "# combine all social network mertics from Question 6 \n",
        "df_social_network = spark.sql(\"select t1.user, t1.lifetime_indicator, \\\n",
        "                          friends_cnt, fof_cnt, cluster_coeff \\\n",
        "                    from df_lifetime_friends t1 \\\n",
        "                          join df_lifetime_fofcnt t2 on t1.user=t2.user \\\n",
        "                              and t1.lifetime_indicator=t2.lifetime_indicator \\\n",
        "                          join df_cluster t3 on t1.user=t3.user \\\n",
        "                              and t1.lifetime_indicator=t3.lifetime \\\n",
        "                    order by t1.user, t1.lifetime_indicator\")\n",
        "\n",
        "df_social_network.createOrReplaceTempView(\"df_social_network\")\n",
        "#df_social_network.show()"
      ],
      "execution_count": 0,
      "outputs": []
    },
    {
      "cell_type": "code",
      "metadata": {
        "id": "z_M7hRslz1HC",
        "colab_type": "code",
        "colab": {}
      },
      "source": [
        "# create input metric by combining social network metric and dependent variable y \n",
        "df_sn_input = spark.sql(\"select t1.user, t1.lifetime_indicator, friends_cnt, \\\n",
        "                                fof_cnt, cluster_coeff, pagerank, y \\\n",
        "                         from df_social_network t1 join df_y t2 \\\n",
        "                                on t1.user=t2.user1\\\n",
        "                              join df_pagerank t3 on t1.user=t3.user \\\n",
        "                         order by t1.user, t1.lifetime_indicator\")\n",
        "\n",
        "df_sn_input.createOrReplaceTempView(\"df_sn_input\")\n",
        "#df_sn_input.show()"
      ],
      "execution_count": 0,
      "outputs": []
    },
    {
      "cell_type": "code",
      "metadata": {
        "id": "E10WmRlRZ5CO",
        "colab_type": "code",
        "colab": {}
      },
      "source": [
        "df_sn_input_time0 = spark.sql(\"select * from df_sn_input where lifetime_indicator=0 \")\n",
        "df_sn_input_time1 = spark.sql(\"select * from df_sn_input where lifetime_indicator=1 \")\n",
        "df_sn_input_time2 = spark.sql(\"select * from df_sn_input where lifetime_indicator=2 \")\n",
        "df_sn_input_time3 = spark.sql(\"select * from df_sn_input where lifetime_indicator=3 \")\n",
        "df_sn_input_time4 = spark.sql(\"select * from df_sn_input where lifetime_indicator=4 \")\n",
        "df_sn_input_time5 = spark.sql(\"select * from df_sn_input where lifetime_indicator=5 \")\n",
        "df_sn_input_time6 = spark.sql(\"select * from df_sn_input where lifetime_indicator=6 \")\n",
        "df_sn_input_time7 = spark.sql(\"select * from df_sn_input where lifetime_indicator=7 \")\n",
        "df_sn_input_time8 = spark.sql(\"select * from df_sn_input where lifetime_indicator=8 \")\n",
        "df_sn_input_time9 = spark.sql(\"select * from df_sn_input where lifetime_indicator=9 \")\n",
        "df_sn_input_time10 = spark.sql(\"select * from df_sn_input where lifetime_indicator=10 \")\n",
        "df_sn_input_time11 = spark.sql(\"select * from df_sn_input where lifetime_indicator=11 \")\n",
        "df_sn_input_time12 = spark.sql(\"select * from df_sn_input where lifetime_indicator=12 \")"
      ],
      "execution_count": 0,
      "outputs": []
    },
    {
      "cell_type": "code",
      "metadata": {
        "id": "wRUUsvulbIHS",
        "colab_type": "code",
        "colab": {}
      },
      "source": [
        "def socialnetworkMSE(inputdata):\n",
        "    Assembler = VectorAssembler(inputCols = ['lifetime_indicator', 'friends_cnt', \n",
        "                                'fof_cnt', 'cluster_coeff', \"pagerank\"], \n",
        "                                outputCol ='features')\n",
        "    output = Assembler.transform(inputdata)\n",
        "    finalData = output.select('features','y')\n",
        "    trainData, testData = finalData.randomSplit([0.7, 0.3], seed=1)\n",
        "    lrModel = LinearRegression(labelCol ='y', featuresCol='features')\n",
        "    lrEstimator = lrModel.fit(trainData)\n",
        "    testResults = lrEstimator.evaluate(testData)\n",
        "    rmse = testResults.rootMeanSquaredError\n",
        "    mse = rmse**2\n",
        "    return mse"
      ],
      "execution_count": 0,
      "outputs": []
    },
    {
      "cell_type": "code",
      "metadata": {
        "id": "0FXmzfUWbIgQ",
        "colab_type": "code",
        "colab": {}
      },
      "source": [
        "# sn_MSE_time0 = socialnetworkMSE(df_sn_input_time0)\n",
        "# print(sn_MSE_time0)\n",
        "# sn_MSE_time1 = socialnetworkMSE(df_sn_input_time1)\n",
        "# print(sn_MSE_time1)\n",
        "# sn_MSE_time2 = socialnetworkMSE(df_sn_input_time2)\n",
        "# print(sn_MSE_time2)\n",
        "# sn_MSE_time3 = socialnetworkMSE(df_sn_input_time3)\n",
        "# print(sn_MSE_time3)\n",
        "# sn_MSE_time4 = socialnetworkMSE(df_sn_input_time4)\n",
        "# print(sn_MSE_time4)\n",
        "# sn_MSE_time5 = socialnetworkMSE(df_sn_input_time5)\n",
        "# print(sn_MSE_time5)\n",
        "# sn_MSE_time6 = socialnetworkMSE(df_sn_input_time6)\n",
        "# print(sn_MSE_time6)\n",
        "# sn_MSE_time7 = socialnetworkMSE(df_sn_input_time7)\n",
        "# print(sn_MSE_time7)\n",
        "# sn_MSE_time8 = socialnetworkMSE(df_sn_input_time8)\n",
        "# print(sn_MSE_time8)\n",
        "# sn_MSE_time9 = socialnetworkMSE(df_sn_input_time9)\n",
        "# print(sn_MSE_time9)\n",
        "# sn_MSE_time10 = socialnetworkMSE(df_sn_input_time10)\n",
        "# print(sn_MSE_time10)\n",
        "# sn_MSE_time11 = socialnetworkMSE(df_sn_input_time11)\n",
        "# print(sn_MSE_time11)\n",
        "# sn_MSE_time12 = socialnetworkMSE(df_sn_input_time12)\n",
        "# print(sn_MSE_time12)\n",
        "\n",
        "sn_MSE = []\n",
        "sn_MSE.extend([sn_MSE_time0, sn_MSE_time1, sn_MSE_time2, sn_MSE_time3, \n",
        "            sn_MSE_time4, sn_MSE_time5, sn_MSE_time6, sn_MSE_time7, \n",
        "            sn_MSE_time8, sn_MSE_time9, sn_MSE_time10, sn_MSE_time11, sn_MSE_time12])\n",
        "sn_MSE"
      ],
      "execution_count": 0,
      "outputs": []
    },
    {
      "cell_type": "code",
      "metadata": {
        "id": "GYYthgXHXsZs",
        "colab_type": "code",
        "colab": {}
      },
      "source": [
        "sn_MSE_time0=5.058206013156707\n",
        "sn_MSE_time1=4.5115567708412305\n",
        "\n",
        "sn_MSE_time5=4.312948761244053\n",
        "\n",
        "sn_MSE_time9=4.484058952467369\n",
        "sn_MSE_time12=4.589418594272139"
      ],
      "execution_count": 0,
      "outputs": []
    },
    {
      "cell_type": "code",
      "metadata": {
        "id": "KQHIcdO1cZks",
        "colab_type": "code",
        "colab": {}
      },
      "source": [
        "Lifetime = [0,1,2,3,4,5,6,7,8,9,10,11,12]\n",
        "plt.plot(Lifetime, sn_MSE, 'go--', color='blue', linewidth=2, markersize=12) "
      ],
      "execution_count": 0,
      "outputs": []
    },
    {
      "cell_type": "markdown",
      "metadata": {
        "id": "Gz8P9Ri3xlEh",
        "colab_type": "text"
      },
      "source": [
        "\n",
        "\n",
        "\n"
      ]
    },
    {
      "cell_type": "markdown",
      "metadata": {
        "id": "lpumitI0z1HG",
        "colab_type": "text"
      },
      "source": [
        "## Q12 For each user’s lifetime point, regress her social network metrics and the spending behavior of her social network on Y. Plot the MSE for each lifetime point like above"
      ]
    },
    {
      "cell_type": "markdown",
      "metadata": {
        "id": "1p9zoIvGR5TV",
        "colab_type": "text"
      },
      "source": [
        "### Step 1: Create spending profile of user's social network"
      ]
    },
    {
      "cell_type": "code",
      "metadata": {
        "id": "dKwQponemHlB",
        "colab_type": "code",
        "colab": {}
      },
      "source": [
        "# fill in user lifetime as continuous intervals\n",
        "df_user_fulllife = spark.sql(\"select user1 as user, lifetime_indicator, \\\n",
        "                                     max(first_datetime) as user_first_datetime\\\n",
        "                              from (select user1, lifetime_indicator, \\\n",
        "                                            datetime as first_datetime\\\n",
        "                                    from days_lifeindicator_tbl \\\n",
        "                                    where lifetime_indicator = 0 \\\n",
        "                                    union \\\n",
        "                                    select user1, time_lst, null as datetime \\\n",
        "                                    from df_timelst) \\\n",
        "                              group by user1, lifetime_indicator \\\n",
        "                              order by user1, lifetime_indicator \")\n",
        "\n",
        "w = Window.partitionBy(\"user\").orderBy(\"lifetime_indicator\")\n",
        "df_user_fulllife = df_user_fulllife.withColumn(\"first_date\", \n",
        "              F.min(\"user_first_datetime\").over(w)).sort(F.col(\"user\"), F.col(\"lifetime_indicator\"))\n",
        "\n",
        "df_user_fulllife.createOrReplaceTempView(\"df_user_fulllife\")\n",
        "#df_user_fulllife.show()"
      ],
      "execution_count": 0,
      "outputs": []
    },
    {
      "cell_type": "code",
      "metadata": {
        "id": "U3UVsKFur1Op",
        "colab_type": "code",
        "colab": {}
      },
      "source": [
        "# fill in null datetime in continuous lifetime intervals with aggregated months since the first transaction\n",
        "\n",
        "df_user_continuous_lastdate = spark.sql(\"select user, lifetime_indicator, \\\n",
        "          case when lifetime_indicator=1 then (first_date + interval 1 month) \\\n",
        "               when lifetime_indicator=2 then (first_date + interval 2 month) \\\n",
        "               when lifetime_indicator=3 then (first_date + interval 3 month) \\\n",
        "               when lifetime_indicator=4 then (first_date + interval 4 month) \\\n",
        "               when lifetime_indicator=5 then (first_date + interval 5 month) \\\n",
        "               when lifetime_indicator=6 then (first_date + interval 6 month) \\\n",
        "               when lifetime_indicator=7 then (first_date + interval 7 month) \\\n",
        "               when lifetime_indicator=8 then (first_date + interval 8 month) \\\n",
        "               when lifetime_indicator=9 then (first_date + interval 9 month) \\\n",
        "               when lifetime_indicator=10 then (first_date + interval 10 month) \\\n",
        "               when lifetime_indicator=11 then (first_date + interval 11 month) \\\n",
        "               when lifetime_indicator=12 then (first_date + interval 12 month) \\\n",
        "                else first_date \\\n",
        "                end as user_last_datetime \\\n",
        "          from df_user_fulllife \\\n",
        "          group by user, lifetime_indicator, first_date \\\n",
        "          order by user, lifetime_indicator \")\n",
        "\n",
        "df_user_continuous_lastdate.createOrReplaceTempView(\"df_user_continuous_lastdate\")\n",
        "#df_user_continuous_lastdate.show()"
      ],
      "execution_count": 0,
      "outputs": []
    },
    {
      "cell_type": "code",
      "metadata": {
        "id": "RJPxd8QzJX3u",
        "colab_type": "code",
        "colab": {}
      },
      "source": [
        "# pair user and their friends in each continuous lifetime\n",
        "df_user_friends_fulllife = spark.sql(\"select user1 as user, max(user2) as friends, \\\n",
        "                                            lifetime_indicator\\\n",
        "                                      from (select distinct user1, user2, lifetime_indicator \\\n",
        "                                            from lifetime_tbl \\\n",
        "                                            union \\\n",
        "                                            select distinct user2, user1, lifetime_indicator \\\n",
        "                                            from lifetime_tbl \\\n",
        "                                            union \\\n",
        "                                            select user, null as user2, time_lst \\\n",
        "                                            from df_usertime) T \\\n",
        "                                      group by user1, lifetime_indicator \\\n",
        "                                      order by user1, lifetime_indicator\")\n",
        "\n",
        "df_user_friends_fulllife.createOrReplaceTempView(\"df_user_friends_fulllife\")\n",
        "#df_user_friends_fulllife.show()"
      ],
      "execution_count": 0,
      "outputs": []
    },
    {
      "cell_type": "code",
      "metadata": {
        "id": "Vp5luq-mz1HH",
        "colab_type": "code",
        "colab": {}
      },
      "source": [
        "# create user profile：map user, user's continuous lifetime, their friends \n",
        "#and user's last possible transaction datetime per lifetime period\n",
        "df_user = spark.sql(\"select t1.user, t1.lifetime_indicator, friends, user_last_datetime\\\n",
        "                      from df_user_continuous_lastdate t1 join df_user_friends_fulllife t2 \\\n",
        "                          on t1.user=t2.user \\\n",
        "                          and t1.lifetime_indicator=t2.lifetime_indicator \\\n",
        "                      order by t1.user, t1.lifetime_indicator\")\n",
        "\n",
        "df_user = df_user.distinct().sort(col(\"user\"), col(\"lifetime_indicator\"))\n",
        "df_user.createOrReplaceTempView(\"df_user\")\n",
        "#df_user.show()"
      ],
      "execution_count": 0,
      "outputs": []
    },
    {
      "cell_type": "code",
      "metadata": {
        "id": "RE61wx8Sz1HO",
        "colab_type": "code",
        "colab": {}
      },
      "source": [
        "# create friends profile: map friends' ids, friends_datetime, \n",
        "#friends spending class and link to user lifetime\n",
        "df_friends_profile = spark.sql(\"select t1.user1 as friends, datetime as friends_datetime, \\\n",
        "                                       class as friends_class, \\\n",
        "                                       t2.lifetime_indicator as user_lifetime \\\n",
        "                                from (select user1, lifetime_indicator, datetime, class\\\n",
        "                                    from days_lifeindicator_tbl \\\n",
        "                                    union \\\n",
        "                                    select user1, time_lst, null as datetime, null as class \\\n",
        "                                    from df_timelst) t1 join df_user_friends_fulllife t2 \\\n",
        "                                    on t1.user1=t2.friends \\\n",
        "                                    and t1.lifetime_indicator = t2.lifetime_indicator \")\n",
        "\n",
        "df_friends_profile.distinct().sort(col(\"friends\"), col(\"user_lifetime\"))\n",
        "df_friends_profile.createOrReplaceTempView(\"df_friends_profile\")"
      ],
      "execution_count": 0,
      "outputs": []
    },
    {
      "cell_type": "code",
      "metadata": {
        "id": "kzqan2gfG9mQ",
        "colab_type": "code",
        "colab": {}
      },
      "source": [
        "df_user_friends_datetime_compare = spark.sql(\"select user, lifetime_indicator, t1.friends, \\\n",
        "                                          user_last_datetime, friends_datetime, friends_class\\\n",
        "                                      from df_user t1 join df_friends_profile t2 \\\n",
        "                                          on t1.friends=t2.friends \\\n",
        "                                          and t1.lifetime_indicator=t2.user_lifetime \\\n",
        "                                      order by user, lifetime_indicator, t1.friends\")\n",
        "\n",
        "df_user_friends_datetime_compare.select(\"*\").distinct().sort(col(\"user\"), col(\"user_lifetime\"))\n",
        "df_user_friends_datetime_compare.createOrReplaceTempView(\"df_user_friends_datetime_compare\")\n",
        "#df_user_friends_datetime_compare.show()"
      ],
      "execution_count": 0,
      "outputs": []
    },
    {
      "cell_type": "code",
      "metadata": {
        "id": "z_kOT69IJfhU",
        "colab_type": "code",
        "colab": {}
      },
      "source": [
        "df_user_friends_life = spark.sql(\"select *, \\\n",
        "              if(user_last_datetime>friends_datetime or friends_datetime is not null, \\\n",
        "                   lifetime_indicator, -1) as friends_lifetime\\\n",
        "           from df_user_friends_datetime_compare \\\n",
        "           order by user, lifetime_indicator \")\n",
        "\n",
        "user_friends_spending_tbl = df_user_friends_life.filter(\"friends_lifetime != -1 \").distinct().sort(\"user\")\n",
        "user_friends_spending_tbl.createOrReplaceTempView(\"user_friends_spending_tbl\")\n",
        "#user_friends_spending_tbl.show()"
      ],
      "execution_count": 0,
      "outputs": []
    },
    {
      "cell_type": "code",
      "metadata": {
        "id": "set8-l5KaZs0",
        "colab_type": "code",
        "colab": {}
      },
      "source": [
        "social_network_spendings_tbl = spark.sql(\"select user, lifetime_indicator, friends_class, \\\n",
        "                              round(count(*)/sum(count(*)) \\\n",
        "                                over (partition by user, lifetime_indicator), 2) as sns_ratio \\\n",
        "                            from user_friends_spending_tbl \\\n",
        "                            group by user, lifetime_indicator, friends_class \\\n",
        "                            order by user\")\n",
        "\n",
        "social_network_spendings_tbl.createOrReplaceTempView(\"social_network_spendings_tbl\")\n",
        "#social_network_spendings_tbl.show()"
      ],
      "execution_count": 0,
      "outputs": []
    },
    {
      "cell_type": "markdown",
      "metadata": {
        "id": "EcFViq5dUwTy",
        "colab_type": "text"
      },
      "source": [
        "### Step 2 Prepare input for regression"
      ]
    },
    {
      "cell_type": "code",
      "metadata": {
        "id": "1k_zPufkPsRu",
        "colab_type": "code",
        "colab": {}
      },
      "source": [
        "df_sns_input = spark.sql(\"select t1.user, t1.lifetime_indicator, friends_cnt, \\\n",
        "                                fof_cnt, cluster_coeff, pagerank, \\\n",
        "                                friends_class,sns_ratio, y \\\n",
        "                         from df_sn_input t1 join social_network_spendings_tbl t2 \\\n",
        "                                on t1.user=t2.user \\\n",
        "                         order by t1.user, t1.lifetime_indicator\")\n",
        "\n",
        "df_sns_input.createOrReplaceTempView(\"df_sns_input\")"
      ],
      "execution_count": 0,
      "outputs": []
    },
    {
      "cell_type": "markdown",
      "metadata": {
        "id": "bwUxM-RqU1l1",
        "colab_type": "text"
      },
      "source": [
        "### Step 3 Regression"
      ]
    },
    {
      "cell_type": "code",
      "metadata": {
        "id": "Sl5ek3j4U59m",
        "colab_type": "code",
        "colab": {}
      },
      "source": [
        "#df_sn_spendings_input_time0 = spark.sql(\"select * from df_sns_input where lifetime_indicator=0 \")\n",
        "#df_sn_spendings_input_time1 = spark.sql(\"select * from df_sns_input where lifetime_indicator=1 \")\n",
        "#df_sn_spendings_input_time2 = spark.sql(\"select * from df_sns_input where lifetime_indicator=2 \")\n",
        "#df_sn_spendings_input_time3 = spark.sql(\"select * from df_sns_input where lifetime_indicator=3 \")\n",
        "#df_sn_spendings_input_time4 = spark.sql(\"select * from df_sns_input where lifetime_indicator=4 \")\n",
        "#df_sn_spendings_input_time5 = spark.sql(\"select * from df_sns_input where lifetime_indicator=5 \")\n",
        "#df_sn_spendings_input_time6 = spark.sql(\"select * from df_sns_input where lifetime_indicator=6 \")\n",
        "#df_sn_spendings_input_time7 = spark.sql(\"select * from df_sns_input where lifetime_indicator=7 \")\n",
        "#df_sn_spendings_input_time8 = spark.sql(\"select * from df_sns_input where lifetime_indicator=8 \")\n",
        "#df_sn_spendings_input_time9 = spark.sql(\"select * from df_sns_input where lifetime_indicator=9 \")\n",
        "#df_sn_spendings_input_time10 = spark.sql(\"select * from df_sns_input where lifetime_indicator=10 \")\n",
        "#df_sn_spendings_input_time11 = spark.sql(\"select * from df_sns_input where lifetime_indicator=11 \")\n",
        "df_sn_spendings_input_time12 = spark.sql(\"select * from df_sns_input where lifetime_indicator=12 \")"
      ],
      "execution_count": 0,
      "outputs": []
    },
    {
      "cell_type": "code",
      "metadata": {
        "id": "KgyqSJnDYkdM",
        "colab_type": "code",
        "colab": {}
      },
      "source": [
        "def snSpendingsMSE(inputdata):\n",
        "    ClassIndexer = StringIndexer(inputCol='friends_class', outputCol =\"FridensClassIndexer\")\n",
        "    ClassEncoder = OneHotEncoder(inputCol='FridensClassIndexer', outputCol=\"ClassDummies\")\n",
        "    pipeline = Pipeline(stages=[ClassIndexer, ClassEncoder])\n",
        "    NewOutput = pipeline.fit(inputdata).transform(inputdata)\n",
        "    Assembler = VectorAssembler(inputCols = ['lifetime_indicator', 'friends_cnt', \n",
        "                                'fof_cnt', 'cluster_coeff', \"pagerank\", \n",
        "                                \"ClassDummies\", \"sns_ratio\"], \n",
        "                                outputCol ='features')\n",
        "    output = Assembler.transform(NewOutput)\n",
        "    finalData = output.select('features','y')\n",
        "    trainData, testData = finalData.randomSplit([0.7, 0.3], seed=1)\n",
        "    lrModel = LinearRegression(labelCol ='y', featuresCol='features')\n",
        "    lrEstimator = lrModel.fit(trainData)\n",
        "    testResults = lrEstimator.evaluate(testData)\n",
        "    rmse = testResults.rootMeanSquaredError\n",
        "    mse = rmse**2\n",
        "    return mse"
      ],
      "execution_count": 0,
      "outputs": []
    },
    {
      "cell_type": "code",
      "metadata": {
        "id": "MY9c1ErQvM6Y",
        "colab_type": "code",
        "outputId": "a2719153-66d1-42d2-c5fb-65263e912ccc",
        "colab": {
          "base_uri": "https://localhost:8080/",
          "height": 71
        }
      },
      "source": [
        "from pyspark.ml.feature import VectorAssembler\n",
        "from pyspark.ml.regression import LinearRegression \n",
        "from pyspark.ml.feature import VectorAssembler, StringIndexer, OneHotEncoder\n",
        "from pyspark.ml import Pipeline\n",
        "ClassIndexer = StringIndexer(inputCol='friends_class', outputCol =\"FridensClassIndexer\")\n",
        "ClassEncoder = OneHotEncoder(inputCol='FridensClassIndexer', outputCol=\"ClassDummies\")\n",
        "pipeline = Pipeline(stages=[ClassIndexer, ClassEncoder])\n",
        "NewOutput = pipeline.fit(df_sn_spendings_input_time12).transform(df_sn_spendings_input_time12)\n",
        "Assembler = VectorAssembler(inputCols = ['lifetime_indicator', 'friends_cnt', \n",
        "                                'fof_cnt', 'cluster_coeff', \"pagerank\", \n",
        "                                \"ClassDummies\", \"sns_ratio\"], \n",
        "                                outputCol ='features')\n",
        "output = Assembler.transform(NewOutput)\n",
        "finalData = output.select('features','y')\n",
        "trainData, testData = finalData.randomSplit([0.7, 0.3], seed=1)\n",
        "lrModel = LinearRegression(labelCol ='y', featuresCol='features')\n",
        "lrEstimator = lrModel.fit(trainData)\n",
        "testResults = lrEstimator.evaluate(testData)\n",
        "rmse = testResults.rootMeanSquaredError\n",
        "mse = rmse**2\n",
        "print('Coefficients'+ str(lrEstimator.coefficients))\n",
        "print('MSE' + str(mse))"
      ],
      "execution_count": 0,
      "outputs": [
        {
          "output_type": "stream",
          "text": [
            "Coefficients[0.0,1.5891787695955821,0.27128918512392963,0.6323409856752339,2127228.00256874,0.1823924784474299,0.13386987548782533,0.1727047953665476,0.1470188436972126,0.16394963961439465,-0.0029635231000119085,0.1377200971091724,0.17078122019112804,0.0999276864762198,-0.6616702528844915]\n",
            "MSE8.408408230851474\n"
          ],
          "name": "stdout"
        }
      ]
    },
    {
      "cell_type": "code",
      "metadata": {
        "id": "mBCOhhHdYkhT",
        "colab_type": "code",
        "outputId": "02c0c979-6479-4de3-b6e7-355a3cabf233",
        "colab": {
          "base_uri": "https://localhost:8080/",
          "height": 34
        }
      },
      "source": [
        "sns_MSE_time12 = snSpendingsMSE(df_sn_spendings_input_time12)\n",
        "print(sns_MSE_time12)\n",
        "\n",
        "#sns_MSE = []\n",
        "#sns_MSE.extend([sns_MSE_time0, sns_MSE_time1, sns_MSE_time2, sns_MSE_time3, \n",
        "#            sns_MSE_time4, sns_MSE_time5, sns_MSE_time6, sns_MSE_time7, \n",
        "#            sns_MSE_time8, sns_MSE_time9, sns_MSE_time10, sns_MSE_time11, sns_MSE_time12])\n",
        "#sns_MSE"
      ],
      "execution_count": 0,
      "outputs": [
        {
          "output_type": "stream",
          "text": [
            "9.490423097110567\n"
          ],
          "name": "stdout"
        }
      ]
    },
    {
      "cell_type": "code",
      "metadata": {
        "id": "YSdTWiZdm3xe",
        "colab_type": "code",
        "outputId": "5b94e2ce-9e06-4153-d02a-d12296e277af",
        "colab": {
          "base_uri": "https://localhost:8080/",
          "height": 34
        }
      },
      "source": [
        "coeff = str(lrEstimator.coefficients)\n",
        "type(coeff)"
      ],
      "execution_count": 0,
      "outputs": [
        {
          "output_type": "execute_result",
          "data": {
            "text/plain": [
              "str"
            ]
          },
          "metadata": {
            "tags": []
          },
          "execution_count": 198
        }
      ]
    },
    {
      "cell_type": "code",
      "metadata": {
        "id": "xyweCKo5YkaA",
        "colab_type": "code",
        "colab": {}
      },
      "source": [
        "Lifetime = [0,1,2,3,4,5,6,7,8,9,10,11,12]\n",
        "plt.plot(Lifetime, sns_MSE, 'go--', color='orange', linewidth=2, markersize=12) "
      ],
      "execution_count": 0,
      "outputs": []
    }
  ]
}